{
 "cells": [
  {
   "cell_type": "markdown",
   "metadata": {},
   "source": [
    "# Predição de Acidente Vascular Cerebral (AVC) com RNA MLP"
   ]
  },
  {
   "cell_type": "markdown",
   "metadata": {},
   "source": [
    "A base de dados utilizada neste projeto foi obtida no Kaggle, e pode ser encontrada [aqui](https://www.kaggle.com/fedesoriano/stroke-prediction-dataset)."
   ]
  },
  {
   "cell_type": "markdown",
   "metadata": {},
   "source": [
    "### Importando as bibliotecas necessárias"
   ]
  },
  {
   "cell_type": "code",
   "execution_count": 51,
   "metadata": {
    "execution": {
     "iopub.execute_input": "2021-03-10T04:48:51.543695Z",
     "iopub.status.busy": "2021-03-10T04:48:51.543018Z",
     "iopub.status.idle": "2021-03-10T04:48:58.118902Z",
     "shell.execute_reply": "2021-03-10T04:48:58.117972Z"
    },
    "papermill": {
     "duration": 6.597163,
     "end_time": "2021-03-10T04:48:58.119125",
     "exception": false,
     "start_time": "2021-03-10T04:48:51.521962",
     "status": "completed"
    },
    "tags": []
   },
   "outputs": [],
   "source": [
    "import tensorflow as tf\n",
    "import numpy as np\n",
    "import pandas as pd\n",
    "import seaborn as sns\n",
    "import pickle\n",
    "import matplotlib\n",
    "import matplotlib.pyplot as plt\n",
    "from sklearn.preprocessing import MinMaxScaler, LabelEncoder\n",
    "from sklearn.model_selection import train_test_split\n",
    "import datetime"
   ]
  },
  {
   "cell_type": "markdown",
   "metadata": {},
   "source": [
    "### Carregando os dados"
   ]
  },
  {
   "cell_type": "code",
   "execution_count": 52,
   "metadata": {
    "execution": {
     "iopub.execute_input": "2021-03-10T04:48:58.151462Z",
     "iopub.status.busy": "2021-03-10T04:48:58.150773Z",
     "iopub.status.idle": "2021-03-10T04:48:58.212188Z",
     "shell.execute_reply": "2021-03-10T04:48:58.211672Z"
    },
    "papermill": {
     "duration": 0.079266,
     "end_time": "2021-03-10T04:48:58.212331",
     "exception": false,
     "start_time": "2021-03-10T04:48:58.133065",
     "status": "completed"
    },
    "tags": []
   },
   "outputs": [
    {
     "data": {
      "text/html": [
       "<div>\n",
       "<style scoped>\n",
       "    .dataframe tbody tr th:only-of-type {\n",
       "        vertical-align: middle;\n",
       "    }\n",
       "\n",
       "    .dataframe tbody tr th {\n",
       "        vertical-align: top;\n",
       "    }\n",
       "\n",
       "    .dataframe thead th {\n",
       "        text-align: right;\n",
       "    }\n",
       "</style>\n",
       "<table border=\"1\" class=\"dataframe\">\n",
       "  <thead>\n",
       "    <tr style=\"text-align: right;\">\n",
       "      <th></th>\n",
       "      <th>id</th>\n",
       "      <th>gender</th>\n",
       "      <th>age</th>\n",
       "      <th>hypertension</th>\n",
       "      <th>heart_disease</th>\n",
       "      <th>ever_married</th>\n",
       "      <th>work_type</th>\n",
       "      <th>Residence_type</th>\n",
       "      <th>avg_glucose_level</th>\n",
       "      <th>bmi</th>\n",
       "      <th>smoking_status</th>\n",
       "      <th>stroke</th>\n",
       "    </tr>\n",
       "  </thead>\n",
       "  <tbody>\n",
       "    <tr>\n",
       "      <th>0</th>\n",
       "      <td>9046</td>\n",
       "      <td>Male</td>\n",
       "      <td>67.0</td>\n",
       "      <td>0</td>\n",
       "      <td>1</td>\n",
       "      <td>Yes</td>\n",
       "      <td>Private</td>\n",
       "      <td>Urban</td>\n",
       "      <td>228.69</td>\n",
       "      <td>36.6</td>\n",
       "      <td>formerly smoked</td>\n",
       "      <td>1</td>\n",
       "    </tr>\n",
       "    <tr>\n",
       "      <th>1</th>\n",
       "      <td>51676</td>\n",
       "      <td>Female</td>\n",
       "      <td>61.0</td>\n",
       "      <td>0</td>\n",
       "      <td>0</td>\n",
       "      <td>Yes</td>\n",
       "      <td>Self-employed</td>\n",
       "      <td>Rural</td>\n",
       "      <td>202.21</td>\n",
       "      <td>NaN</td>\n",
       "      <td>never smoked</td>\n",
       "      <td>1</td>\n",
       "    </tr>\n",
       "    <tr>\n",
       "      <th>2</th>\n",
       "      <td>31112</td>\n",
       "      <td>Male</td>\n",
       "      <td>80.0</td>\n",
       "      <td>0</td>\n",
       "      <td>1</td>\n",
       "      <td>Yes</td>\n",
       "      <td>Private</td>\n",
       "      <td>Rural</td>\n",
       "      <td>105.92</td>\n",
       "      <td>32.5</td>\n",
       "      <td>never smoked</td>\n",
       "      <td>1</td>\n",
       "    </tr>\n",
       "    <tr>\n",
       "      <th>3</th>\n",
       "      <td>60182</td>\n",
       "      <td>Female</td>\n",
       "      <td>49.0</td>\n",
       "      <td>0</td>\n",
       "      <td>0</td>\n",
       "      <td>Yes</td>\n",
       "      <td>Private</td>\n",
       "      <td>Urban</td>\n",
       "      <td>171.23</td>\n",
       "      <td>34.4</td>\n",
       "      <td>smokes</td>\n",
       "      <td>1</td>\n",
       "    </tr>\n",
       "    <tr>\n",
       "      <th>4</th>\n",
       "      <td>1665</td>\n",
       "      <td>Female</td>\n",
       "      <td>79.0</td>\n",
       "      <td>1</td>\n",
       "      <td>0</td>\n",
       "      <td>Yes</td>\n",
       "      <td>Self-employed</td>\n",
       "      <td>Rural</td>\n",
       "      <td>174.12</td>\n",
       "      <td>24.0</td>\n",
       "      <td>never smoked</td>\n",
       "      <td>1</td>\n",
       "    </tr>\n",
       "  </tbody>\n",
       "</table>\n",
       "</div>"
      ],
      "text/plain": [
       "      id  gender   age  hypertension  heart_disease ever_married  \\\n",
       "0   9046    Male  67.0             0              1          Yes   \n",
       "1  51676  Female  61.0             0              0          Yes   \n",
       "2  31112    Male  80.0             0              1          Yes   \n",
       "3  60182  Female  49.0             0              0          Yes   \n",
       "4   1665  Female  79.0             1              0          Yes   \n",
       "\n",
       "       work_type Residence_type  avg_glucose_level   bmi   smoking_status  \\\n",
       "0        Private          Urban             228.69  36.6  formerly smoked   \n",
       "1  Self-employed          Rural             202.21   NaN     never smoked   \n",
       "2        Private          Rural             105.92  32.5     never smoked   \n",
       "3        Private          Urban             171.23  34.4           smokes   \n",
       "4  Self-employed          Rural             174.12  24.0     never smoked   \n",
       "\n",
       "   stroke  \n",
       "0       1  \n",
       "1       1  \n",
       "2       1  \n",
       "3       1  \n",
       "4       1  "
      ]
     },
     "execution_count": 52,
     "metadata": {},
     "output_type": "execute_result"
    }
   ],
   "source": [
    "dataset = pd.read_csv('data/healthcare-dataset-stroke-data.csv')\n",
    "dataset.head(5)"
   ]
  },
  {
   "cell_type": "code",
   "execution_count": 53,
   "metadata": {},
   "outputs": [
    {
     "name": "stdout",
     "output_type": "stream",
     "text": [
      "<class 'pandas.core.frame.DataFrame'>\n",
      "RangeIndex: 5110 entries, 0 to 5109\n",
      "Data columns (total 12 columns):\n",
      " #   Column             Non-Null Count  Dtype  \n",
      "---  ------             --------------  -----  \n",
      " 0   id                 5110 non-null   int64  \n",
      " 1   gender             5110 non-null   object \n",
      " 2   age                5110 non-null   float64\n",
      " 3   hypertension       5110 non-null   int64  \n",
      " 4   heart_disease      5110 non-null   int64  \n",
      " 5   ever_married       5110 non-null   object \n",
      " 6   work_type          5110 non-null   object \n",
      " 7   Residence_type     5110 non-null   object \n",
      " 8   avg_glucose_level  5110 non-null   float64\n",
      " 9   bmi                4909 non-null   float64\n",
      " 10  smoking_status     5110 non-null   object \n",
      " 11  stroke             5110 non-null   int64  \n",
      "dtypes: float64(3), int64(4), object(5)\n",
      "memory usage: 479.2+ KB\n"
     ]
    }
   ],
   "source": [
    "dataset.info()"
   ]
  },
  {
   "cell_type": "code",
   "execution_count": 54,
   "metadata": {},
   "outputs": [
    {
     "data": {
      "text/plain": [
       "'\\n    Dados de entrada:\\n    gender:            sexo do paciente (masculino, feminino, outro)\\n    Age:               idade do paciente (em anos)\\n    hypertension:      se o paciente tem hipertensão (0, 1)\\n    heart_disease:     se o paciente tem doença cardíaca (0, 1)\\n    ever_married:      se o paciente já se casou (sim, não)\\n    work_type:         tipo de trabalho do paciente (nunca trabalhou, privado, autonomo, governo, criança)\\n    Residence_type:    tipo de residência do paciente (urbana, rural)\\n    avg_glucose_level: nível médio de glicose no sangue do paciente (em mg/dL)\\n    bmi:               índice de massa corporal do paciente (em kg/m^2)\\n    smoking_status:    status de fumante do paciente (nunca fumou, ex-fumante, fumante atual ou desconhecido)\\n    stroke:            se o paciente teve um AVC (0, 1)    \\n'"
      ]
     },
     "execution_count": 54,
     "metadata": {},
     "output_type": "execute_result"
    }
   ],
   "source": [
    "\"\"\"\n",
    "    Dados de entrada:\n",
    "    gender:            sexo do paciente (masculino, feminino, outro)\n",
    "    Age:               idade do paciente (em anos)\n",
    "    hypertension:      se o paciente tem hipertensão (0, 1)\n",
    "    heart_disease:     se o paciente tem doença cardíaca (0, 1)\n",
    "    ever_married:      se o paciente já se casou (sim, não)\n",
    "    work_type:         tipo de trabalho do paciente (nunca trabalhou, privado, autonomo, governo, criança)\n",
    "    Residence_type:    tipo de residência do paciente (urbana, rural)\n",
    "    avg_glucose_level: nível médio de glicose no sangue do paciente (em mg/dL)\n",
    "    bmi:               índice de massa corporal do paciente (em kg/m^2)\n",
    "    smoking_status:    status de fumante do paciente (nunca fumou, ex-fumante, fumante atual ou desconhecido)\n",
    "    stroke:            se o paciente teve um AVC (0, 1)    \n",
    "\"\"\""
   ]
  },
  {
   "cell_type": "code",
   "execution_count": 55,
   "metadata": {
    "execution": {
     "iopub.execute_input": "2021-03-10T04:48:58.247790Z",
     "iopub.status.busy": "2021-03-10T04:48:58.246741Z",
     "iopub.status.idle": "2021-03-10T04:48:58.249536Z",
     "shell.execute_reply": "2021-03-10T04:48:58.249992Z"
    },
    "papermill": {
     "duration": 0.023582,
     "end_time": "2021-03-10T04:48:58.250161",
     "exception": false,
     "start_time": "2021-03-10T04:48:58.226579",
     "status": "completed"
    },
    "tags": []
   },
   "outputs": [],
   "source": [
    "# drop coluna id\n",
    "dataset.drop(['id'], axis=1, inplace=True)"
   ]
  },
  {
   "cell_type": "markdown",
   "metadata": {},
   "source": [
    "### Análise Exploratória de Dados (EDA)"
   ]
  },
  {
   "cell_type": "code",
   "execution_count": 56,
   "metadata": {},
   "outputs": [],
   "source": [
    "import matplotlib.pyplot as plt"
   ]
  },
  {
   "cell_type": "markdown",
   "metadata": {},
   "source": [
    "#### Colunas categóricas e numéricas"
   ]
  },
  {
   "cell_type": "code",
   "execution_count": 57,
   "metadata": {},
   "outputs": [
    {
     "data": {
      "image/png": "[encoded data removed]",
      "text/plain": [
       "<Figure size 432x360 with 1 Axes>"
      ]
     },
     "metadata": {
      "needs_background": "light"
     },
     "output_type": "display_data"
    },
    {
     "data": {
      "image/png": "[encoded data removed]",
      "text/plain": [
       "<Figure size 432x360 with 1 Axes>"
      ]
     },
     "metadata": {
      "needs_background": "light"
     },
     "output_type": "display_data"
    },
    {
     "data": {
      "image/png": "[encoded data removed]",
      "text/plain": [
       "<Figure size 432x360 with 1 Axes>"
      ]
     },
     "metadata": {
      "needs_background": "light"
     },
     "output_type": "display_data"
    },
    {
     "data": {
      "image/png": "[encoded data removed]",
      "text/plain": [
       "<Figure size 432x360 with 1 Axes>"
      ]
     },
     "metadata": {
      "needs_background": "light"
     },
     "output_type": "display_data"
    },
    {
     "data": {
      "image/png": "[encoded data removed]",
      "text/plain": [
       "<Figure size 432x360 with 1 Axes>"
      ]
     },
     "metadata": {
      "needs_background": "light"
     },
     "output_type": "display_data"
    }
   ],
   "source": [
    "colCategoricas = dataset[['gender', 'ever_married', 'work_type', 'Residence_type', 'smoking_status']]\n",
    "\n",
    "for col in colCategoricas:\n",
    "    plt.figure(figsize=(6,5))\n",
    "    sns.countplot(x=col, data=dataset)\n",
    "    plt.show()\n"
   ]
  },
  {
   "cell_type": "code",
   "execution_count": 58,
   "metadata": {},
   "outputs": [
    {
     "data": {
      "image/png": "[encoded data removed]",
      "text/plain": [
       "<Figure size 432x360 with 1 Axes>"
      ]
     },
     "metadata": {
      "needs_background": "light"
     },
     "output_type": "display_data"
    },
    {
     "data": {
      "image/png": "[encoded data removed]",
      "text/plain": [
       "<Figure size 432x360 with 1 Axes>"
      ]
     },
     "metadata": {
      "needs_background": "light"
     },
     "output_type": "display_data"
    },
    {
     "data": {
      "image/png": "[encoded data removed]",
      "text/plain": [
       "<Figure size 432x360 with 1 Axes>"
      ]
     },
     "metadata": {
      "needs_background": "light"
     },
     "output_type": "display_data"
    },
    {
     "data": {
      "image/png": "[encoded data removed]",
      "text/plain": [
       "<Figure size 432x360 with 1 Axes>"
      ]
     },
     "metadata": {
      "needs_background": "light"
     },
     "output_type": "display_data"
    },
    {
     "data": {
      "image/png": "[encoded data removed]",
      "text/plain": [
       "<Figure size 432x360 with 1 Axes>"
      ]
     },
     "metadata": {
      "needs_background": "light"
     },
     "output_type": "display_data"
    },
    {
     "data": {
      "image/png": "[encoded data removed]",
      "text/plain": [
       "<Figure size 432x360 with 1 Axes>"
      ]
     },
     "metadata": {
      "needs_background": "light"
     },
     "output_type": "display_data"
    }
   ],
   "source": [
    "colNumericas = dataset[['age', 'hypertension', 'heart_disease', 'avg_glucose_level', 'bmi', 'stroke']]\n",
    "\n",
    "for col in colNumericas:\n",
    "    plt.figure(figsize=(6,5))\n",
    "    sns.histplot(x=col, data=dataset)\n",
    "    plt.show()"
   ]
  },
  {
   "cell_type": "markdown",
   "metadata": {},
   "source": [
    "### Pré-processamento dos dados"
   ]
  },
  {
   "cell_type": "code",
   "execution_count": 59,
   "metadata": {
    "execution": {
     "iopub.execute_input": "2021-03-10T04:48:58.287422Z",
     "iopub.status.busy": "2021-03-10T04:48:58.286483Z",
     "iopub.status.idle": "2021-03-10T04:48:58.290076Z",
     "shell.execute_reply": "2021-03-10T04:48:58.289554Z"
    },
    "papermill": {
     "duration": 0.025597,
     "end_time": "2021-03-10T04:48:58.290244",
     "exception": false,
     "start_time": "2021-03-10T04:48:58.264647",
     "status": "completed"
    },
    "tags": []
   },
   "outputs": [],
   "source": [
    "# Mapeamento de dados categóricos\n",
    "def mapping(data, coluna):\n",
    "    colunaMap = dict()\n",
    "    count = 0.0\n",
    "    for i in sorted(data[coluna].unique(), reverse=True):\n",
    "        colunaMap[i]=count\n",
    "        count = count+1.0\n",
    "    data[coluna] = data[coluna].map(colunaMap)\n",
    "    return data\n",
    "\n",
    "# Normalização de dados numéricos\n",
    "def normalizarCol(data, coluna, rangeN=[0,1]):\n",
    "    data[coluna] = (((data[coluna] - data[coluna].min()) / (data[coluna].max() - data[coluna].min())) * (rangeN[1] - rangeN[0])) -rangeN[0]\n",
    "    return data.convert_dtypes(infer_objects=False, convert_integer=False, convert_floating= True)\n"
   ]
  },
  {
   "cell_type": "code",
   "execution_count": 60,
   "metadata": {
    "execution": {
     "iopub.execute_input": "2021-03-10T04:48:58.364851Z",
     "iopub.status.busy": "2021-03-10T04:48:58.364222Z",
     "iopub.status.idle": "2021-03-10T04:48:58.378899Z",
     "shell.execute_reply": "2021-03-10T04:48:58.379414Z"
    },
    "papermill": {
     "duration": 0.034477,
     "end_time": "2021-03-10T04:48:58.379642",
     "exception": false,
     "start_time": "2021-03-10T04:48:58.345165",
     "status": "completed"
    },
    "tags": []
   },
   "outputs": [
    {
     "name": "stdout",
     "output_type": "stream",
     "text": [
      "['Male' 'Female' 'Other']\n",
      "<FloatingArray>\n",
      "[0.5, 1.0, 0.0]\n",
      "Length: 3, dtype: Float64\n"
     ]
    }
   ],
   "source": [
    "print(dataset.gender.unique())\n",
    "\n",
    "dataset = mapping(dataset, \"gender\") #quantifica a coluna\n",
    "dataset = normalizarCol(dataset, \"gender\", [0, 1]) #normaliza a coluna\n",
    "\n",
    "print(dataset.gender.unique())"
   ]
  },
  {
   "cell_type": "code",
   "execution_count": 61,
   "metadata": {
    "execution": {
     "iopub.execute_input": "2021-03-10T04:48:58.487194Z",
     "iopub.status.busy": "2021-03-10T04:48:58.486560Z",
     "iopub.status.idle": "2021-03-10T04:48:58.494374Z",
     "shell.execute_reply": "2021-03-10T04:48:58.493760Z"
    },
    "papermill": {
     "duration": 0.027543,
     "end_time": "2021-03-10T04:48:58.494508",
     "exception": false,
     "start_time": "2021-03-10T04:48:58.466965",
     "status": "completed"
    },
    "tags": []
   },
   "outputs": [
    {
     "name": "stdout",
     "output_type": "stream",
     "text": [
      "<class 'pandas.core.series.Series'>\n",
      "RangeIndex: 5110 entries, 0 to 5109\n",
      "Series name: age\n",
      "Non-Null Count  Dtype  \n",
      "--------------  -----  \n",
      "5110 non-null   Float64\n",
      "dtypes: Float64(1)\n",
      "memory usage: 45.0 KB\n"
     ]
    }
   ],
   "source": [
    "dataset.age.info()\n",
    "dataset = normalizarCol(dataset, \"age\", [0, 1])"
   ]
  },
  {
   "cell_type": "code",
   "execution_count": 62,
   "metadata": {
    "execution": {
     "iopub.execute_input": "2021-03-10T04:48:58.565999Z",
     "iopub.status.busy": "2021-03-10T04:48:58.565392Z",
     "iopub.status.idle": "2021-03-10T04:48:58.576959Z",
     "shell.execute_reply": "2021-03-10T04:48:58.577465Z"
    },
    "papermill": {
     "duration": 0.029832,
     "end_time": "2021-03-10T04:48:58.577646",
     "exception": false,
     "start_time": "2021-03-10T04:48:58.547814",
     "status": "completed"
    },
    "tags": []
   },
   "outputs": [
    {
     "name": "stdout",
     "output_type": "stream",
     "text": [
      "<StringArray>\n",
      "['Yes', 'No']\n",
      "Length: 2, dtype: string\n",
      "<FloatingArray>\n",
      "[0.0, 1.0]\n",
      "Length: 2, dtype: Float64\n"
     ]
    }
   ],
   "source": [
    "print(dataset.ever_married.unique())\n",
    "\n",
    "dataset = mapping(dataset, \"ever_married\")\n",
    "dataset = normalizarCol(dataset, \"ever_married\", [0, 1])\n",
    "\n",
    "print(dataset.ever_married.unique())"
   ]
  },
  {
   "cell_type": "code",
   "execution_count": 63,
   "metadata": {
    "execution": {
     "iopub.execute_input": "2021-03-10T04:48:58.612123Z",
     "iopub.status.busy": "2021-03-10T04:48:58.611500Z",
     "iopub.status.idle": "2021-03-10T04:48:58.622447Z",
     "shell.execute_reply": "2021-03-10T04:48:58.622957Z"
    },
    "papermill": {
     "duration": 0.030017,
     "end_time": "2021-03-10T04:48:58.623138",
     "exception": false,
     "start_time": "2021-03-10T04:48:58.593121",
     "status": "completed"
    },
    "tags": []
   },
   "outputs": [
    {
     "name": "stdout",
     "output_type": "stream",
     "text": [
      "<StringArray>\n",
      "['Private', 'Self-employed', 'Govt_job', 'children', 'Never_worked']\n",
      "Length: 5, dtype: string\n",
      "<FloatingArray>\n",
      "[0.5, 0.25, 1.0, 0.0, 0.75]\n",
      "Length: 5, dtype: Float64\n"
     ]
    }
   ],
   "source": [
    "print(dataset.work_type.unique())\n",
    "\n",
    "dataset = mapping(dataset, \"work_type\")\n",
    "dataset = normalizarCol(dataset, \"work_type\", [0, 1])\n",
    "\n",
    "print(dataset.work_type.unique())"
   ]
  },
  {
   "cell_type": "code",
   "execution_count": 64,
   "metadata": {
    "execution": {
     "iopub.execute_input": "2021-03-10T04:48:58.657933Z",
     "iopub.status.busy": "2021-03-10T04:48:58.657347Z",
     "iopub.status.idle": "2021-03-10T04:48:58.668114Z",
     "shell.execute_reply": "2021-03-10T04:48:58.668637Z"
    },
    "papermill": {
     "duration": 0.02983,
     "end_time": "2021-03-10T04:48:58.668804",
     "exception": false,
     "start_time": "2021-03-10T04:48:58.638974",
     "status": "completed"
    },
    "tags": []
   },
   "outputs": [
    {
     "name": "stdout",
     "output_type": "stream",
     "text": [
      "<StringArray>\n",
      "['Urban', 'Rural']\n",
      "Length: 2, dtype: string\n",
      "<FloatingArray>\n",
      "[0.0, 1.0]\n",
      "Length: 2, dtype: Float64\n"
     ]
    }
   ],
   "source": [
    "print(dataset.Residence_type.unique())\n",
    "\n",
    "dataset = mapping(dataset, \"Residence_type\")\n",
    "dataset = normalizarCol(dataset, \"Residence_type\", [0, 1])\n",
    "\n",
    "print(dataset.Residence_type.unique())"
   ]
  },
  {
   "cell_type": "code",
   "execution_count": 65,
   "metadata": {
    "execution": {
     "iopub.execute_input": "2021-03-10T04:48:58.703836Z",
     "iopub.status.busy": "2021-03-10T04:48:58.703229Z",
     "iopub.status.idle": "2021-03-10T04:48:58.712213Z",
     "shell.execute_reply": "2021-03-10T04:48:58.711717Z"
    },
    "papermill": {
     "duration": 0.027825,
     "end_time": "2021-03-10T04:48:58.712353",
     "exception": false,
     "start_time": "2021-03-10T04:48:58.684528",
     "status": "completed"
    },
    "tags": []
   },
   "outputs": [
    {
     "name": "stdout",
     "output_type": "stream",
     "text": [
      "<class 'pandas.core.series.Series'>\n",
      "RangeIndex: 5110 entries, 0 to 5109\n",
      "Series name: avg_glucose_level\n",
      "Non-Null Count  Dtype  \n",
      "--------------  -----  \n",
      "5110 non-null   Float64\n",
      "dtypes: Float64(1)\n",
      "memory usage: 45.0 KB\n"
     ]
    }
   ],
   "source": [
    "dataset.avg_glucose_level.info()\n",
    "dataset = normalizarCol(dataset, \"avg_glucose_level\", [0, 1])"
   ]
  },
  {
   "cell_type": "code",
   "execution_count": 66,
   "metadata": {
    "execution": {
     "iopub.execute_input": "2021-03-10T04:48:58.749906Z",
     "iopub.status.busy": "2021-03-10T04:48:58.749309Z",
     "iopub.status.idle": "2021-03-10T04:48:58.764569Z",
     "shell.execute_reply": "2021-03-10T04:48:58.763998Z"
    },
    "papermill": {
     "duration": 0.036333,
     "end_time": "2021-03-10T04:48:58.764712",
     "exception": false,
     "start_time": "2021-03-10T04:48:58.728379",
     "status": "completed"
    },
    "tags": []
   },
   "outputs": [
    {
     "name": "stdout",
     "output_type": "stream",
     "text": [
      "<class 'pandas.core.series.Series'>\n",
      "RangeIndex: 5110 entries, 0 to 5109\n",
      "Series name: bmi\n",
      "Non-Null Count  Dtype  \n",
      "--------------  -----  \n",
      "4909 non-null   Float64\n",
      "dtypes: Float64(1)\n",
      "memory usage: 45.0 KB\n"
     ]
    }
   ],
   "source": [
    "dataset.bmi.info()\n",
    "dataset = dataset.fillna(dataset['bmi'].mean())\n",
    "dataset = mapping(dataset, \"bmi\")\n",
    "dataset = normalizarCol(dataset, \"bmi\", [0, 1])"
   ]
  },
  {
   "cell_type": "code",
   "execution_count": 67,
   "metadata": {
    "execution": {
     "iopub.execute_input": "2021-03-10T04:48:58.801848Z",
     "iopub.status.busy": "2021-03-10T04:48:58.801122Z",
     "iopub.status.idle": "2021-03-10T04:48:58.809269Z",
     "shell.execute_reply": "2021-03-10T04:48:58.809787Z"
    },
    "papermill": {
     "duration": 0.029304,
     "end_time": "2021-03-10T04:48:58.809963",
     "exception": false,
     "start_time": "2021-03-10T04:48:58.780659",
     "status": "completed"
    },
    "tags": []
   },
   "outputs": [
    {
     "name": "stdout",
     "output_type": "stream",
     "text": [
      "<StringArray>\n",
      "['formerly smoked', 'never smoked', 'smokes', 'Unknown']\n",
      "Length: 4, dtype: string\n",
      "<FloatingArray>\n",
      "[0.6666666666666666, 0.3333333333333333, 0.0, 1.0]\n",
      "Length: 4, dtype: Float64\n"
     ]
    }
   ],
   "source": [
    "print(dataset.smoking_status.unique())\n",
    "\n",
    "dataset = mapping(dataset, \"smoking_status\")\n",
    "dataset = normalizarCol(dataset, \"smoking_status\", [0, 1])\n",
    "\n",
    "print(dataset.smoking_status.unique())"
   ]
  },
  {
   "cell_type": "code",
   "execution_count": 68,
   "metadata": {
    "execution": {
     "iopub.execute_input": "2021-03-10T04:48:58.845499Z",
     "iopub.status.busy": "2021-03-10T04:48:58.844848Z",
     "iopub.status.idle": "2021-03-10T04:48:58.871563Z",
     "shell.execute_reply": "2021-03-10T04:48:58.870942Z"
    },
    "papermill": {
     "duration": 0.045635,
     "end_time": "2021-03-10T04:48:58.871704",
     "exception": false,
     "start_time": "2021-03-10T04:48:58.826069",
     "status": "completed"
    },
    "tags": []
   },
   "outputs": [
    {
     "name": "stdout",
     "output_type": "stream",
     "text": [
      "<class 'pandas.core.series.Series'>\n",
      "RangeIndex: 5110 entries, 0 to 5109\n",
      "Series name: stroke\n",
      "Non-Null Count  Dtype\n",
      "--------------  -----\n",
      "5110 non-null   int64\n",
      "dtypes: int64(1)\n",
      "memory usage: 40.0 KB\n"
     ]
    }
   ],
   "source": [
    "dataset.stroke.info()\n",
    "dataset = normalizarCol(dataset, \"stroke\", [0, 1])"
   ]
  },
  {
   "cell_type": "markdown",
   "metadata": {},
   "source": [
    "### Divisão dos dados em treino e teste"
   ]
  },
  {
   "cell_type": "code",
   "execution_count": 69,
   "metadata": {
    "execution": {
     "iopub.execute_input": "2021-03-10T04:48:58.911941Z",
     "iopub.status.busy": "2021-03-10T04:48:58.911325Z",
     "iopub.status.idle": "2021-03-10T04:48:58.931058Z",
     "shell.execute_reply": "2021-03-10T04:48:58.931904Z"
    },
    "papermill": {
     "duration": 0.043673,
     "end_time": "2021-03-10T04:48:58.932136",
     "exception": false,
     "start_time": "2021-03-10T04:48:58.888463",
     "status": "completed"
    },
    "tags": []
   },
   "outputs": [
    {
     "name": "stdout",
     "output_type": "stream",
     "text": [
      "(4088, 10) (1022, 10) (4088,) (1022,)\n"
     ]
    }
   ],
   "source": [
    "X, y = dataset.values[:, :-1], dataset.values[:, -1]\n",
    "X= X.astype('float32')\n",
    "y = LabelEncoder().fit_transform(y)\n",
    "X_train, X_test, y_train, y_test = train_test_split(X, y, test_size=0.20)\n",
    "print(X_train.shape, X_test.shape, y_train.shape, y_test.shape)\n",
    "n_features = X_train.shape[1] #feature selection"
   ]
  },
  {
   "cell_type": "markdown",
   "metadata": {},
   "source": [
    "### Construção do modelo de predição"
   ]
  },
  {
   "cell_type": "code",
   "execution_count": 70,
   "metadata": {
    "execution": {
     "iopub.execute_input": "2021-03-10T04:48:58.974111Z",
     "iopub.status.busy": "2021-03-10T04:48:58.973495Z",
     "iopub.status.idle": "2021-03-10T04:48:59.085698Z",
     "shell.execute_reply": "2021-03-10T04:48:59.085103Z"
    },
    "papermill": {
     "duration": 0.136421,
     "end_time": "2021-03-10T04:48:59.085838",
     "exception": false,
     "start_time": "2021-03-10T04:48:58.949417",
     "status": "completed"
    },
    "tags": []
   },
   "outputs": [],
   "source": [
    "model = tf.keras.models.Sequential()\n",
    "model.add(tf.keras.layers.Dense(n_features, activation='relu', kernel_initializer='he_normal', input_shape=(n_features,)))\n",
    "model.add(tf.keras.layers.Dense(6, activation='relu', kernel_initializer='he_normal'))\n",
    "model.add(tf.keras.layers.Dense(14, activation='relu', kernel_initializer='he_normal'))\n",
    "model.add(tf.keras.layers.Dense(24, activation='relu', kernel_initializer='he_normal'))\n",
    "model.add(tf.keras.layers.Dense(6, activation='relu', kernel_initializer='he_normal'))\n",
    "model.add(tf.keras.layers.Dense(2, activation='softmax'))\n"
   ]
  },
  {
   "cell_type": "code",
   "execution_count": 71,
   "metadata": {
    "execution": {
     "iopub.execute_input": "2021-03-10T04:48:59.133160Z",
     "iopub.status.busy": "2021-03-10T04:48:59.132507Z",
     "iopub.status.idle": "2021-03-10T04:49:08.958729Z",
     "shell.execute_reply": "2021-03-10T04:49:08.957976Z"
    },
    "papermill": {
     "duration": 9.855943,
     "end_time": "2021-03-10T04:49:08.958894",
     "exception": false,
     "start_time": "2021-03-10T04:48:59.102951",
     "status": "completed"
    },
    "tags": []
   },
   "outputs": [
    {
     "name": "stdout",
     "output_type": "stream",
     "text": [
      "Epoch 1/64\n",
      "64/64 [==============================] - 1s 7ms/step - loss: 0.2477 - accuracy: 0.9503 - val_loss: 0.1889 - val_accuracy: 0.9550\n",
      "Epoch 2/64\n",
      "64/64 [==============================] - 0s 2ms/step - loss: 0.1880 - accuracy: 0.9503 - val_loss: 0.1811 - val_accuracy: 0.9550\n",
      "Epoch 3/64\n",
      "64/64 [==============================] - 0s 2ms/step - loss: 0.1822 - accuracy: 0.9503 - val_loss: 0.1778 - val_accuracy: 0.9550\n",
      "Epoch 4/64\n",
      "64/64 [==============================] - 0s 3ms/step - loss: 0.1797 - accuracy: 0.9503 - val_loss: 0.1759 - val_accuracy: 0.9550\n",
      "Epoch 5/64\n",
      "64/64 [==============================] - 0s 3ms/step - loss: 0.1769 - accuracy: 0.9503 - val_loss: 0.1747 - val_accuracy: 0.9550\n",
      "Epoch 6/64\n",
      "64/64 [==============================] - 0s 2ms/step - loss: 0.1749 - accuracy: 0.9503 - val_loss: 0.1737 - val_accuracy: 0.9550\n",
      "Epoch 7/64\n",
      "64/64 [==============================] - 0s 2ms/step - loss: 0.1732 - accuracy: 0.9503 - val_loss: 0.1735 - val_accuracy: 0.9550\n",
      "Epoch 8/64\n",
      "64/64 [==============================] - 0s 2ms/step - loss: 0.1723 - accuracy: 0.9503 - val_loss: 0.1732 - val_accuracy: 0.9550\n",
      "Epoch 9/64\n",
      "64/64 [==============================] - 0s 2ms/step - loss: 0.1711 - accuracy: 0.9503 - val_loss: 0.1737 - val_accuracy: 0.9550\n",
      "Epoch 10/64\n",
      "64/64 [==============================] - 0s 2ms/step - loss: 0.1701 - accuracy: 0.9503 - val_loss: 0.1733 - val_accuracy: 0.9550\n",
      "Epoch 11/64\n",
      "64/64 [==============================] - 0s 2ms/step - loss: 0.1694 - accuracy: 0.9503 - val_loss: 0.1733 - val_accuracy: 0.9550\n",
      "Epoch 12/64\n",
      "64/64 [==============================] - 0s 2ms/step - loss: 0.1682 - accuracy: 0.9503 - val_loss: 0.1725 - val_accuracy: 0.9550\n",
      "Epoch 13/64\n",
      "64/64 [==============================] - 0s 2ms/step - loss: 0.1684 - accuracy: 0.9503 - val_loss: 0.1739 - val_accuracy: 0.9550\n",
      "Epoch 14/64\n",
      "64/64 [==============================] - 0s 2ms/step - loss: 0.1678 - accuracy: 0.9503 - val_loss: 0.1732 - val_accuracy: 0.9550\n",
      "Epoch 15/64\n",
      "64/64 [==============================] - 0s 2ms/step - loss: 0.1665 - accuracy: 0.9503 - val_loss: 0.1724 - val_accuracy: 0.9550\n",
      "Epoch 16/64\n",
      "64/64 [==============================] - 0s 2ms/step - loss: 0.1660 - accuracy: 0.9503 - val_loss: 0.1717 - val_accuracy: 0.9550\n",
      "Epoch 17/64\n",
      "64/64 [==============================] - 0s 2ms/step - loss: 0.1647 - accuracy: 0.9503 - val_loss: 0.1718 - val_accuracy: 0.9550\n",
      "Epoch 18/64\n",
      "64/64 [==============================] - 0s 2ms/step - loss: 0.1642 - accuracy: 0.9503 - val_loss: 0.1713 - val_accuracy: 0.9550\n",
      "Epoch 19/64\n",
      "64/64 [==============================] - 0s 2ms/step - loss: 0.1636 - accuracy: 0.9503 - val_loss: 0.1730 - val_accuracy: 0.9550\n",
      "Epoch 20/64\n",
      "64/64 [==============================] - 0s 2ms/step - loss: 0.1636 - accuracy: 0.9503 - val_loss: 0.1716 - val_accuracy: 0.9550\n",
      "Epoch 21/64\n",
      "64/64 [==============================] - 0s 2ms/step - loss: 0.1629 - accuracy: 0.9503 - val_loss: 0.1712 - val_accuracy: 0.9550\n",
      "Epoch 22/64\n",
      "64/64 [==============================] - 0s 2ms/step - loss: 0.1621 - accuracy: 0.9503 - val_loss: 0.1717 - val_accuracy: 0.9550\n",
      "Epoch 23/64\n",
      "64/64 [==============================] - 0s 2ms/step - loss: 0.1613 - accuracy: 0.9503 - val_loss: 0.1721 - val_accuracy: 0.9550\n",
      "Epoch 24/64\n",
      "64/64 [==============================] - 0s 2ms/step - loss: 0.1620 - accuracy: 0.9503 - val_loss: 0.1728 - val_accuracy: 0.9550\n",
      "Epoch 25/64\n",
      "64/64 [==============================] - 0s 2ms/step - loss: 0.1608 - accuracy: 0.9503 - val_loss: 0.1723 - val_accuracy: 0.9550\n",
      "Epoch 26/64\n",
      "64/64 [==============================] - 0s 2ms/step - loss: 0.1605 - accuracy: 0.9503 - val_loss: 0.1740 - val_accuracy: 0.9550\n",
      "Epoch 27/64\n",
      "64/64 [==============================] - 0s 2ms/step - loss: 0.1603 - accuracy: 0.9503 - val_loss: 0.1742 - val_accuracy: 0.9550\n",
      "Epoch 28/64\n",
      "64/64 [==============================] - 0s 2ms/step - loss: 0.1610 - accuracy: 0.9503 - val_loss: 0.1756 - val_accuracy: 0.9550\n",
      "Epoch 29/64\n",
      "64/64 [==============================] - 0s 2ms/step - loss: 0.1597 - accuracy: 0.9503 - val_loss: 0.1732 - val_accuracy: 0.9550\n",
      "Epoch 30/64\n",
      "64/64 [==============================] - 0s 2ms/step - loss: 0.1589 - accuracy: 0.9503 - val_loss: 0.1742 - val_accuracy: 0.9550\n",
      "Epoch 31/64\n",
      "64/64 [==============================] - 0s 2ms/step - loss: 0.1598 - accuracy: 0.9503 - val_loss: 0.1736 - val_accuracy: 0.9550\n",
      "Epoch 32/64\n",
      "64/64 [==============================] - 0s 2ms/step - loss: 0.1589 - accuracy: 0.9503 - val_loss: 0.1754 - val_accuracy: 0.9550\n",
      "Epoch 33/64\n",
      "64/64 [==============================] - 0s 2ms/step - loss: 0.1588 - accuracy: 0.9503 - val_loss: 0.1759 - val_accuracy: 0.9550\n",
      "Epoch 34/64\n",
      "64/64 [==============================] - 0s 2ms/step - loss: 0.1575 - accuracy: 0.9503 - val_loss: 0.1750 - val_accuracy: 0.9550\n",
      "Epoch 35/64\n",
      "64/64 [==============================] - 0s 2ms/step - loss: 0.1580 - accuracy: 0.9503 - val_loss: 0.1752 - val_accuracy: 0.9550\n",
      "Epoch 36/64\n",
      "64/64 [==============================] - 0s 2ms/step - loss: 0.1569 - accuracy: 0.9503 - val_loss: 0.1756 - val_accuracy: 0.9550\n",
      "Epoch 37/64\n",
      "64/64 [==============================] - 0s 2ms/step - loss: 0.1568 - accuracy: 0.9503 - val_loss: 0.1758 - val_accuracy: 0.9550\n",
      "Epoch 38/64\n",
      "64/64 [==============================] - 0s 2ms/step - loss: 0.1562 - accuracy: 0.9503 - val_loss: 0.1770 - val_accuracy: 0.9550\n",
      "Epoch 39/64\n",
      "64/64 [==============================] - 0s 2ms/step - loss: 0.1559 - accuracy: 0.9503 - val_loss: 0.1779 - val_accuracy: 0.9550\n",
      "Epoch 40/64\n",
      "64/64 [==============================] - 0s 2ms/step - loss: 0.1559 - accuracy: 0.9503 - val_loss: 0.1764 - val_accuracy: 0.9550\n",
      "Epoch 41/64\n",
      "64/64 [==============================] - 0s 2ms/step - loss: 0.1568 - accuracy: 0.9503 - val_loss: 0.1774 - val_accuracy: 0.9550\n",
      "Epoch 42/64\n",
      "64/64 [==============================] - 0s 2ms/step - loss: 0.1551 - accuracy: 0.9503 - val_loss: 0.1778 - val_accuracy: 0.9550\n",
      "Epoch 43/64\n",
      "64/64 [==============================] - 0s 2ms/step - loss: 0.1543 - accuracy: 0.9503 - val_loss: 0.1783 - val_accuracy: 0.9550\n",
      "Epoch 44/64\n",
      "64/64 [==============================] - 0s 2ms/step - loss: 0.1544 - accuracy: 0.9503 - val_loss: 0.1788 - val_accuracy: 0.9550\n",
      "Epoch 45/64\n",
      "64/64 [==============================] - 0s 2ms/step - loss: 0.1547 - accuracy: 0.9503 - val_loss: 0.1800 - val_accuracy: 0.9550\n",
      "Epoch 46/64\n",
      "64/64 [==============================] - 0s 2ms/step - loss: 0.1540 - accuracy: 0.9503 - val_loss: 0.1796 - val_accuracy: 0.9550\n",
      "Epoch 47/64\n",
      "64/64 [==============================] - 0s 2ms/step - loss: 0.1535 - accuracy: 0.9503 - val_loss: 0.1781 - val_accuracy: 0.9550\n",
      "Epoch 48/64\n",
      "64/64 [==============================] - 0s 2ms/step - loss: 0.1532 - accuracy: 0.9503 - val_loss: 0.1796 - val_accuracy: 0.9550\n",
      "Epoch 49/64\n",
      "64/64 [==============================] - 0s 2ms/step - loss: 0.1540 - accuracy: 0.9503 - val_loss: 0.1785 - val_accuracy: 0.9550\n",
      "Epoch 50/64\n",
      "64/64 [==============================] - 0s 2ms/step - loss: 0.1525 - accuracy: 0.9503 - val_loss: 0.1806 - val_accuracy: 0.9550\n",
      "Epoch 51/64\n",
      "64/64 [==============================] - 0s 2ms/step - loss: 0.1525 - accuracy: 0.9503 - val_loss: 0.1798 - val_accuracy: 0.9550\n",
      "Epoch 52/64\n",
      "64/64 [==============================] - 0s 2ms/step - loss: 0.1511 - accuracy: 0.9503 - val_loss: 0.1808 - val_accuracy: 0.9550\n",
      "Epoch 53/64\n",
      "64/64 [==============================] - 0s 2ms/step - loss: 0.1511 - accuracy: 0.9503 - val_loss: 0.1808 - val_accuracy: 0.9550\n",
      "Epoch 54/64\n",
      "64/64 [==============================] - 0s 2ms/step - loss: 0.1510 - accuracy: 0.9503 - val_loss: 0.1817 - val_accuracy: 0.9550\n",
      "Epoch 55/64\n",
      "64/64 [==============================] - 0s 2ms/step - loss: 0.1508 - accuracy: 0.9503 - val_loss: 0.1809 - val_accuracy: 0.9550\n",
      "Epoch 56/64\n",
      "64/64 [==============================] - 0s 2ms/step - loss: 0.1519 - accuracy: 0.9503 - val_loss: 0.1824 - val_accuracy: 0.9550\n",
      "Epoch 57/64\n",
      "64/64 [==============================] - 0s 2ms/step - loss: 0.1509 - accuracy: 0.9503 - val_loss: 0.1805 - val_accuracy: 0.9550\n",
      "Epoch 58/64\n",
      "64/64 [==============================] - 0s 2ms/step - loss: 0.1505 - accuracy: 0.9503 - val_loss: 0.1854 - val_accuracy: 0.9550\n",
      "Epoch 59/64\n",
      "64/64 [==============================] - 0s 2ms/step - loss: 0.1508 - accuracy: 0.9503 - val_loss: 0.1805 - val_accuracy: 0.9550\n",
      "Epoch 60/64\n",
      "64/64 [==============================] - 0s 2ms/step - loss: 0.1499 - accuracy: 0.9503 - val_loss: 0.1838 - val_accuracy: 0.9550\n",
      "Epoch 61/64\n",
      "64/64 [==============================] - 0s 2ms/step - loss: 0.1501 - accuracy: 0.9506 - val_loss: 0.1812 - val_accuracy: 0.9550\n",
      "Epoch 62/64\n",
      "64/64 [==============================] - 0s 2ms/step - loss: 0.1489 - accuracy: 0.9503 - val_loss: 0.1810 - val_accuracy: 0.9550\n",
      "Epoch 63/64\n",
      "64/64 [==============================] - 0s 2ms/step - loss: 0.1486 - accuracy: 0.9503 - val_loss: 0.1826 - val_accuracy: 0.9550\n",
      "Epoch 64/64\n",
      "64/64 [==============================] - 0s 2ms/step - loss: 0.1492 - accuracy: 0.9506 - val_loss: 0.1822 - val_accuracy: 0.9550\n"
     ]
    },
    {
     "data": {
      "text/plain": [
       "<keras.callbacks.History at 0x1e3e0db4700>"
      ]
     },
     "execution_count": 71,
     "metadata": {},
     "output_type": "execute_result"
    }
   ],
   "source": [
    "\n",
    "model.compile(optimizer='adam', loss='sparse_categorical_crossentropy', metrics=['accuracy'])\n",
    "\n",
    "model.fit(X_train, y_train, epochs=64, batch_size=64, validation_data=(X_test, y_test))\n"
   ]
  },
  {
   "cell_type": "code",
   "execution_count": 72,
   "metadata": {
    "execution": {
     "iopub.execute_input": "2021-03-10T04:49:09.005307Z",
     "iopub.status.busy": "2021-03-10T04:49:09.004167Z",
     "iopub.status.idle": "2021-03-10T04:49:09.074952Z",
     "shell.execute_reply": "2021-03-10T04:49:09.074353Z"
    },
    "papermill": {
     "duration": 0.096539,
     "end_time": "2021-03-10T04:49:09.075116",
     "exception": false,
     "start_time": "2021-03-10T04:49:08.978577",
     "status": "completed"
    },
    "tags": []
   },
   "outputs": [
    {
     "name": "stdout",
     "output_type": "stream",
     "text": [
      "32/32 [==============================] - 0s 1ms/step - loss: 0.1822 - accuracy: 0.9550\n"
     ]
    }
   ],
   "source": [
    "loss, acc = model.evaluate(X_test, y_test)"
   ]
  },
  {
   "cell_type": "code",
   "execution_count": 73,
   "metadata": {
    "execution": {
     "iopub.execute_input": "2021-03-10T04:49:09.120531Z",
     "iopub.status.busy": "2021-03-10T04:49:09.119376Z",
     "iopub.status.idle": "2021-03-10T04:49:09.122885Z",
     "shell.execute_reply": "2021-03-10T04:49:09.123457Z"
    },
    "papermill": {
     "duration": 0.02855,
     "end_time": "2021-03-10T04:49:09.123641",
     "exception": false,
     "start_time": "2021-03-10T04:49:09.095091",
     "status": "completed"
    },
    "tags": []
   },
   "outputs": [
    {
     "name": "stdout",
     "output_type": "stream",
     "text": [
      "Perda: 0.182, \n",
      "Acuracia: 0.955\n"
     ]
    }
   ],
   "source": [
    "print('Perda: %.3f, \\nAcuracia: %.3f' % (loss, acc))"
   ]
  },
  {
   "cell_type": "code",
   "execution_count": 74,
   "metadata": {},
   "outputs": [
    {
     "name": "stdout",
     "output_type": "stream",
     "text": [
      "32/32 [==============================] - 0s 807us/step\n"
     ]
    },
    {
     "data": {
      "text/plain": [
       "<AxesSubplot:>"
      ]
     },
     "execution_count": 74,
     "metadata": {},
     "output_type": "execute_result"
    },
    {
     "data": {
      "image/png": "[encoded data removed]",
      "text/plain": [
       "<Figure size 720x360 with 2 Axes>"
      ]
     },
     "metadata": {
      "needs_background": "light"
     },
     "output_type": "display_data"
    }
   ],
   "source": [
    "from sklearn.metrics import confusion_matrix\n",
    "\n",
    "predictions = model.predict(X_test)\n",
    "\n",
    "plt.figure(figsize=(10,5))\n",
    "cm = confusion_matrix(y_test, predictions.argmax(axis=1))\n",
    "confusion_matrix = pd.DataFrame(cm, index = ['Não teve AVC', 'Teve AVC'], columns = ['Não teve AVC', 'Teve AVC'])\n",
    "sns.heatmap(confusion_matrix, annot=True, fmt='g')"
   ]
  },
  {
   "cell_type": "markdown",
   "metadata": {},
   "source": [
    "A = Positivo verdadeiro\n",
    "B = Positivo falso\n",
    "C = Negativo falso\n",
    "D = Negativo verdadeiro\n"
   ]
  }
 ],
 "metadata": {
  "kernelspec": {
   "display_name": "Python 3.10.6 64-bit",
   "language": "python",
   "name": "python3"
  },
  "language_info": {
   "codemirror_mode": {
    "name": "ipython",
    "version": 3
   },
   "file_extension": ".py",
   "mimetype": "text/x-python",
   "name": "python",
   "nbconvert_exporter": "python",
   "pygments_lexer": "ipython3",
   "version": "3.10.6"
  },
  "papermill": {
   "default_parameters": {},
   "duration": 24.447555,
   "end_time": "2021-03-10T04:49:10.254059",
   "environment_variables": {},
   "exception": null,
   "input_path": "__notebook__.ipynb",
   "output_path": "__notebook__.ipynb",
   "parameters": {},
   "start_time": "2021-03-10T04:48:45.806504",
   "version": "2.2.2"
  },
  "vscode": {
   "interpreter": {
    "hash": "f9e4dc9f9849216cde722f1d05d16f9d6e39392894aab521b220488c9419cf33"
   }
  }
 },
 "nbformat": 4,
 "nbformat_minor": 4
}
