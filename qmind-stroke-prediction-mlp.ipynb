{
 "cells": [
  {
   "cell_type": "code",
   "execution_count": 4,
   "metadata": {
    "execution": {
     "iopub.execute_input": "2021-03-10T04:48:51.543695Z",
     "iopub.status.busy": "2021-03-10T04:48:51.543018Z",
     "iopub.status.idle": "2021-03-10T04:48:58.118902Z",
     "shell.execute_reply": "2021-03-10T04:48:58.117972Z"
    },
    "papermill": {
     "duration": 6.597163,
     "end_time": "2021-03-10T04:48:58.119125",
     "exception": false,
     "start_time": "2021-03-10T04:48:51.521962",
     "status": "completed"
    },
    "tags": []
   },
   "outputs": [],
   "source": [
    "import tensorflow as tf\n",
    "import numpy as np\n",
    "import pandas as pd\n",
    "import seaborn as sns\n",
    "import pickle\n",
    "import matplotlib\n",
    "import matplotlib.pyplot as plt\n",
    "from sklearn.preprocessing import MinMaxScaler, LabelEncoder\n",
    "from sklearn.model_selection import train_test_split\n",
    "import datetime"
   ]
  },
  {
   "cell_type": "code",
   "execution_count": 5,
   "metadata": {
    "execution": {
     "iopub.execute_input": "2021-03-10T04:48:58.151462Z",
     "iopub.status.busy": "2021-03-10T04:48:58.150773Z",
     "iopub.status.idle": "2021-03-10T04:48:58.212188Z",
     "shell.execute_reply": "2021-03-10T04:48:58.211672Z"
    },
    "papermill": {
     "duration": 0.079266,
     "end_time": "2021-03-10T04:48:58.212331",
     "exception": false,
     "start_time": "2021-03-10T04:48:58.133065",
     "status": "completed"
    },
    "tags": []
   },
   "outputs": [
    {
     "data": {
      "text/html": [
       "<div>\n",
       "<style scoped>\n",
       "    .dataframe tbody tr th:only-of-type {\n",
       "        vertical-align: middle;\n",
       "    }\n",
       "\n",
       "    .dataframe tbody tr th {\n",
       "        vertical-align: top;\n",
       "    }\n",
       "\n",
       "    .dataframe thead th {\n",
       "        text-align: right;\n",
       "    }\n",
       "</style>\n",
       "<table border=\"1\" class=\"dataframe\">\n",
       "  <thead>\n",
       "    <tr style=\"text-align: right;\">\n",
       "      <th></th>\n",
       "      <th>id</th>\n",
       "      <th>gender</th>\n",
       "      <th>age</th>\n",
       "      <th>hypertension</th>\n",
       "      <th>heart_disease</th>\n",
       "      <th>ever_married</th>\n",
       "      <th>work_type</th>\n",
       "      <th>Residence_type</th>\n",
       "      <th>avg_glucose_level</th>\n",
       "      <th>bmi</th>\n",
       "      <th>smoking_status</th>\n",
       "      <th>stroke</th>\n",
       "    </tr>\n",
       "  </thead>\n",
       "  <tbody>\n",
       "    <tr>\n",
       "      <th>0</th>\n",
       "      <td>9046</td>\n",
       "      <td>Male</td>\n",
       "      <td>67.0</td>\n",
       "      <td>0</td>\n",
       "      <td>1</td>\n",
       "      <td>Yes</td>\n",
       "      <td>Private</td>\n",
       "      <td>Urban</td>\n",
       "      <td>228.69</td>\n",
       "      <td>36.6</td>\n",
       "      <td>formerly smoked</td>\n",
       "      <td>1</td>\n",
       "    </tr>\n",
       "    <tr>\n",
       "      <th>1</th>\n",
       "      <td>51676</td>\n",
       "      <td>Female</td>\n",
       "      <td>61.0</td>\n",
       "      <td>0</td>\n",
       "      <td>0</td>\n",
       "      <td>Yes</td>\n",
       "      <td>Self-employed</td>\n",
       "      <td>Rural</td>\n",
       "      <td>202.21</td>\n",
       "      <td>NaN</td>\n",
       "      <td>never smoked</td>\n",
       "      <td>1</td>\n",
       "    </tr>\n",
       "    <tr>\n",
       "      <th>2</th>\n",
       "      <td>31112</td>\n",
       "      <td>Male</td>\n",
       "      <td>80.0</td>\n",
       "      <td>0</td>\n",
       "      <td>1</td>\n",
       "      <td>Yes</td>\n",
       "      <td>Private</td>\n",
       "      <td>Rural</td>\n",
       "      <td>105.92</td>\n",
       "      <td>32.5</td>\n",
       "      <td>never smoked</td>\n",
       "      <td>1</td>\n",
       "    </tr>\n",
       "    <tr>\n",
       "      <th>3</th>\n",
       "      <td>60182</td>\n",
       "      <td>Female</td>\n",
       "      <td>49.0</td>\n",
       "      <td>0</td>\n",
       "      <td>0</td>\n",
       "      <td>Yes</td>\n",
       "      <td>Private</td>\n",
       "      <td>Urban</td>\n",
       "      <td>171.23</td>\n",
       "      <td>34.4</td>\n",
       "      <td>smokes</td>\n",
       "      <td>1</td>\n",
       "    </tr>\n",
       "    <tr>\n",
       "      <th>4</th>\n",
       "      <td>1665</td>\n",
       "      <td>Female</td>\n",
       "      <td>79.0</td>\n",
       "      <td>1</td>\n",
       "      <td>0</td>\n",
       "      <td>Yes</td>\n",
       "      <td>Self-employed</td>\n",
       "      <td>Rural</td>\n",
       "      <td>174.12</td>\n",
       "      <td>24.0</td>\n",
       "      <td>never smoked</td>\n",
       "      <td>1</td>\n",
       "    </tr>\n",
       "  </tbody>\n",
       "</table>\n",
       "</div>"
      ],
      "text/plain": [
       "      id  gender   age  hypertension  heart_disease ever_married  \\\n",
       "0   9046    Male  67.0             0              1          Yes   \n",
       "1  51676  Female  61.0             0              0          Yes   \n",
       "2  31112    Male  80.0             0              1          Yes   \n",
       "3  60182  Female  49.0             0              0          Yes   \n",
       "4   1665  Female  79.0             1              0          Yes   \n",
       "\n",
       "       work_type Residence_type  avg_glucose_level   bmi   smoking_status  \\\n",
       "0        Private          Urban             228.69  36.6  formerly smoked   \n",
       "1  Self-employed          Rural             202.21   NaN     never smoked   \n",
       "2        Private          Rural             105.92  32.5     never smoked   \n",
       "3        Private          Urban             171.23  34.4           smokes   \n",
       "4  Self-employed          Rural             174.12  24.0     never smoked   \n",
       "\n",
       "   stroke  \n",
       "0       1  \n",
       "1       1  \n",
       "2       1  \n",
       "3       1  \n",
       "4       1  "
      ]
     },
     "execution_count": 5,
     "metadata": {},
     "output_type": "execute_result"
    }
   ],
   "source": [
    "csv = pd.read_csv('data/healthcare-dataset-stroke-data.csv')\n",
    "csv.head(5)"
   ]
  },
  {
   "cell_type": "code",
   "execution_count": 6,
   "metadata": {
    "execution": {
     "iopub.execute_input": "2021-03-10T04:48:58.247790Z",
     "iopub.status.busy": "2021-03-10T04:48:58.246741Z",
     "iopub.status.idle": "2021-03-10T04:48:58.249536Z",
     "shell.execute_reply": "2021-03-10T04:48:58.249992Z"
    },
    "papermill": {
     "duration": 0.023582,
     "end_time": "2021-03-10T04:48:58.250161",
     "exception": false,
     "start_time": "2021-03-10T04:48:58.226579",
     "status": "completed"
    },
    "tags": []
   },
   "outputs": [],
   "source": [
    "csv.drop(['id'], axis=1, inplace=True)"
   ]
  },
  {
   "cell_type": "code",
   "execution_count": 7,
   "metadata": {
    "execution": {
     "iopub.execute_input": "2021-03-10T04:48:58.287422Z",
     "iopub.status.busy": "2021-03-10T04:48:58.286483Z",
     "iopub.status.idle": "2021-03-10T04:48:58.290076Z",
     "shell.execute_reply": "2021-03-10T04:48:58.289554Z"
    },
    "papermill": {
     "duration": 0.025597,
     "end_time": "2021-03-10T04:48:58.290244",
     "exception": false,
     "start_time": "2021-03-10T04:48:58.264647",
     "status": "completed"
    },
    "tags": []
   },
   "outputs": [],
   "source": [
    "def mapping(data,feature):\n",
    "    featureMap=dict()\n",
    "    count=0.0\n",
    "    for i in sorted(data[feature].unique(),reverse=True):\n",
    "        featureMap[i]=count\n",
    "        count=count+1.0\n",
    "    data[feature]=data[feature].map(featureMap).convert_dtypes(infer_objects=False, convert_integer=False, convert_floating= True)\n",
    "    return data\n",
    "\n",
    "def normalizeCol (data, columnName, normRange):\n",
    "    data[columnName]=(((data[columnName]-data[columnName].min())/(data[columnName].max()-data[columnName].min()))*(normRange[1]-normRange[0]))-normRange[0]\n",
    "    #normalize age\n",
    "    return data.convert_dtypes(infer_objects=False, convert_integer=False, convert_floating= True)"
   ]
  },
  {
   "cell_type": "code",
   "execution_count": 8,
   "metadata": {
    "execution": {
     "iopub.execute_input": "2021-03-10T04:48:58.326195Z",
     "iopub.status.busy": "2021-03-10T04:48:58.325578Z",
     "iopub.status.idle": "2021-03-10T04:48:58.330183Z",
     "shell.execute_reply": "2021-03-10T04:48:58.329690Z"
    },
    "papermill": {
     "duration": 0.025686,
     "end_time": "2021-03-10T04:48:58.330325",
     "exception": false,
     "start_time": "2021-03-10T04:48:58.304639",
     "status": "completed"
    },
    "tags": []
   },
   "outputs": [
    {
     "data": {
      "text/plain": [
       "array(['Male', 'Female', 'Other'], dtype=object)"
      ]
     },
     "execution_count": 8,
     "metadata": {},
     "output_type": "execute_result"
    }
   ],
   "source": [
    "csv.gender.unique()"
   ]
  },
  {
   "cell_type": "code",
   "execution_count": 9,
   "metadata": {
    "execution": {
     "iopub.execute_input": "2021-03-10T04:48:58.364851Z",
     "iopub.status.busy": "2021-03-10T04:48:58.364222Z",
     "iopub.status.idle": "2021-03-10T04:48:58.378899Z",
     "shell.execute_reply": "2021-03-10T04:48:58.379414Z"
    },
    "papermill": {
     "duration": 0.034477,
     "end_time": "2021-03-10T04:48:58.379642",
     "exception": false,
     "start_time": "2021-03-10T04:48:58.345165",
     "status": "completed"
    },
    "tags": []
   },
   "outputs": [],
   "source": [
    "csv = mapping(csv, \"gender\") #quantize gender\n",
    "csv = normalizeCol(csv, \"gender\", [0, 1])"
   ]
  },
  {
   "cell_type": "code",
   "execution_count": 10,
   "metadata": {
    "execution": {
     "iopub.execute_input": "2021-03-10T04:48:58.412500Z",
     "iopub.status.busy": "2021-03-10T04:48:58.411883Z",
     "iopub.status.idle": "2021-03-10T04:48:58.414919Z",
     "shell.execute_reply": "2021-03-10T04:48:58.415437Z"
    },
    "papermill": {
     "duration": 0.02103,
     "end_time": "2021-03-10T04:48:58.415610",
     "exception": false,
     "start_time": "2021-03-10T04:48:58.394580",
     "status": "completed"
    },
    "tags": []
   },
   "outputs": [],
   "source": [
    "# csv.gender.unique() \n",
    "# csv[csv['gender']== 0.5]"
   ]
  },
  {
   "cell_type": "code",
   "execution_count": 11,
   "metadata": {
    "execution": {
     "iopub.execute_input": "2021-03-10T04:48:58.448602Z",
     "iopub.status.busy": "2021-03-10T04:48:58.447984Z",
     "iopub.status.idle": "2021-03-10T04:48:58.451056Z",
     "shell.execute_reply": "2021-03-10T04:48:58.451595Z"
    },
    "papermill": {
     "duration": 0.021092,
     "end_time": "2021-03-10T04:48:58.451755",
     "exception": false,
     "start_time": "2021-03-10T04:48:58.430663",
     "status": "completed"
    },
    "tags": []
   },
   "outputs": [],
   "source": [
    "# csv.age.unique()\n",
    "# csv[csv['age']== (csv.age.max())] #validating data"
   ]
  },
  {
   "cell_type": "code",
   "execution_count": 12,
   "metadata": {
    "execution": {
     "iopub.execute_input": "2021-03-10T04:48:58.487194Z",
     "iopub.status.busy": "2021-03-10T04:48:58.486560Z",
     "iopub.status.idle": "2021-03-10T04:48:58.494374Z",
     "shell.execute_reply": "2021-03-10T04:48:58.493760Z"
    },
    "papermill": {
     "duration": 0.027543,
     "end_time": "2021-03-10T04:48:58.494508",
     "exception": false,
     "start_time": "2021-03-10T04:48:58.466965",
     "status": "completed"
    },
    "tags": []
   },
   "outputs": [],
   "source": [
    "csv = normalizeCol(csv, \"age\", [0, 1])"
   ]
  },
  {
   "cell_type": "code",
   "execution_count": 13,
   "metadata": {
    "execution": {
     "iopub.execute_input": "2021-03-10T04:48:58.529067Z",
     "iopub.status.busy": "2021-03-10T04:48:58.528479Z",
     "iopub.status.idle": "2021-03-10T04:48:58.531658Z",
     "shell.execute_reply": "2021-03-10T04:48:58.532141Z"
    },
    "papermill": {
     "duration": 0.022459,
     "end_time": "2021-03-10T04:48:58.532323",
     "exception": false,
     "start_time": "2021-03-10T04:48:58.509864",
     "status": "completed"
    },
    "tags": []
   },
   "outputs": [],
   "source": [
    "# csv[csv['age']== 1.00000000e+00] #validation"
   ]
  },
  {
   "cell_type": "code",
   "execution_count": 14,
   "metadata": {
    "execution": {
     "iopub.execute_input": "2021-03-10T04:48:58.565999Z",
     "iopub.status.busy": "2021-03-10T04:48:58.565392Z",
     "iopub.status.idle": "2021-03-10T04:48:58.576959Z",
     "shell.execute_reply": "2021-03-10T04:48:58.577465Z"
    },
    "papermill": {
     "duration": 0.029832,
     "end_time": "2021-03-10T04:48:58.577646",
     "exception": false,
     "start_time": "2021-03-10T04:48:58.547814",
     "status": "completed"
    },
    "tags": []
   },
   "outputs": [],
   "source": [
    "csv = mapping(csv, \"ever_married\")\n",
    "csv = normalizeCol(csv, \"ever_married\", [0, 1])"
   ]
  },
  {
   "cell_type": "code",
   "execution_count": 15,
   "metadata": {
    "execution": {
     "iopub.execute_input": "2021-03-10T04:48:58.612123Z",
     "iopub.status.busy": "2021-03-10T04:48:58.611500Z",
     "iopub.status.idle": "2021-03-10T04:48:58.622447Z",
     "shell.execute_reply": "2021-03-10T04:48:58.622957Z"
    },
    "papermill": {
     "duration": 0.030017,
     "end_time": "2021-03-10T04:48:58.623138",
     "exception": false,
     "start_time": "2021-03-10T04:48:58.593121",
     "status": "completed"
    },
    "tags": []
   },
   "outputs": [],
   "source": [
    "csv = mapping(csv, \"work_type\")\n",
    "csv = normalizeCol(csv, \"work_type\", [0, 1])"
   ]
  },
  {
   "cell_type": "code",
   "execution_count": 16,
   "metadata": {
    "execution": {
     "iopub.execute_input": "2021-03-10T04:48:58.657933Z",
     "iopub.status.busy": "2021-03-10T04:48:58.657347Z",
     "iopub.status.idle": "2021-03-10T04:48:58.668114Z",
     "shell.execute_reply": "2021-03-10T04:48:58.668637Z"
    },
    "papermill": {
     "duration": 0.02983,
     "end_time": "2021-03-10T04:48:58.668804",
     "exception": false,
     "start_time": "2021-03-10T04:48:58.638974",
     "status": "completed"
    },
    "tags": []
   },
   "outputs": [],
   "source": [
    "csv = mapping(csv, \"Residence_type\")\n",
    "csv = normalizeCol(csv, \"Residence_type\", [0, 1])"
   ]
  },
  {
   "cell_type": "code",
   "execution_count": 17,
   "metadata": {
    "execution": {
     "iopub.execute_input": "2021-03-10T04:48:58.703836Z",
     "iopub.status.busy": "2021-03-10T04:48:58.703229Z",
     "iopub.status.idle": "2021-03-10T04:48:58.712213Z",
     "shell.execute_reply": "2021-03-10T04:48:58.711717Z"
    },
    "papermill": {
     "duration": 0.027825,
     "end_time": "2021-03-10T04:48:58.712353",
     "exception": false,
     "start_time": "2021-03-10T04:48:58.684528",
     "status": "completed"
    },
    "tags": []
   },
   "outputs": [],
   "source": [
    "csv = normalizeCol(csv, \"avg_glucose_level\", [0, 1])"
   ]
  },
  {
   "cell_type": "code",
   "execution_count": 26,
   "metadata": {
    "execution": {
     "iopub.execute_input": "2021-03-10T04:48:58.749906Z",
     "iopub.status.busy": "2021-03-10T04:48:58.749309Z",
     "iopub.status.idle": "2021-03-10T04:48:58.764569Z",
     "shell.execute_reply": "2021-03-10T04:48:58.763998Z"
    },
    "papermill": {
     "duration": 0.036333,
     "end_time": "2021-03-10T04:48:58.764712",
     "exception": false,
     "start_time": "2021-03-10T04:48:58.728379",
     "status": "completed"
    },
    "tags": []
   },
   "outputs": [
    {
     "data": {
      "text/html": [
       "<div>\n",
       "<style scoped>\n",
       "    .dataframe tbody tr th:only-of-type {\n",
       "        vertical-align: middle;\n",
       "    }\n",
       "\n",
       "    .dataframe tbody tr th {\n",
       "        vertical-align: top;\n",
       "    }\n",
       "\n",
       "    .dataframe thead th {\n",
       "        text-align: right;\n",
       "    }\n",
       "</style>\n",
       "<table border=\"1\" class=\"dataframe\">\n",
       "  <thead>\n",
       "    <tr style=\"text-align: right;\">\n",
       "      <th></th>\n",
       "      <th>gender</th>\n",
       "      <th>age</th>\n",
       "      <th>hypertension</th>\n",
       "      <th>heart_disease</th>\n",
       "      <th>ever_married</th>\n",
       "      <th>work_type</th>\n",
       "      <th>Residence_type</th>\n",
       "      <th>avg_glucose_level</th>\n",
       "      <th>bmi</th>\n",
       "      <th>smoking_status</th>\n",
       "      <th>stroke</th>\n",
       "    </tr>\n",
       "  </thead>\n",
       "  <tbody>\n",
       "    <tr>\n",
       "      <th>0</th>\n",
       "      <td>0.5</td>\n",
       "      <td>0.816895</td>\n",
       "      <td>0</td>\n",
       "      <td>1</td>\n",
       "      <td>0.0</td>\n",
       "      <td>0.5</td>\n",
       "      <td>0.0</td>\n",
       "      <td>0.801265</td>\n",
       "      <td>0.574163</td>\n",
       "      <td>0.666667</td>\n",
       "      <td>1.0</td>\n",
       "    </tr>\n",
       "    <tr>\n",
       "      <th>1</th>\n",
       "      <td>1.0</td>\n",
       "      <td>0.743652</td>\n",
       "      <td>0</td>\n",
       "      <td>0</td>\n",
       "      <td>0.0</td>\n",
       "      <td>0.25</td>\n",
       "      <td>1.0</td>\n",
       "      <td>0.679023</td>\n",
       "      <td>0.38756</td>\n",
       "      <td>0.333333</td>\n",
       "      <td>1.0</td>\n",
       "    </tr>\n",
       "    <tr>\n",
       "      <th>2</th>\n",
       "      <td>0.5</td>\n",
       "      <td>0.975586</td>\n",
       "      <td>0</td>\n",
       "      <td>1</td>\n",
       "      <td>0.0</td>\n",
       "      <td>0.5</td>\n",
       "      <td>1.0</td>\n",
       "      <td>0.234512</td>\n",
       "      <td>0.476077</td>\n",
       "      <td>0.333333</td>\n",
       "      <td>1.0</td>\n",
       "    </tr>\n",
       "    <tr>\n",
       "      <th>3</th>\n",
       "      <td>1.0</td>\n",
       "      <td>0.597168</td>\n",
       "      <td>0</td>\n",
       "      <td>0</td>\n",
       "      <td>0.0</td>\n",
       "      <td>0.5</td>\n",
       "      <td>0.0</td>\n",
       "      <td>0.536008</td>\n",
       "      <td>0.521531</td>\n",
       "      <td>0.0</td>\n",
       "      <td>1.0</td>\n",
       "    </tr>\n",
       "    <tr>\n",
       "      <th>4</th>\n",
       "      <td>1.0</td>\n",
       "      <td>0.963379</td>\n",
       "      <td>1</td>\n",
       "      <td>0</td>\n",
       "      <td>0.0</td>\n",
       "      <td>0.25</td>\n",
       "      <td>1.0</td>\n",
       "      <td>0.549349</td>\n",
       "      <td>0.270335</td>\n",
       "      <td>0.333333</td>\n",
       "      <td>1.0</td>\n",
       "    </tr>\n",
       "    <tr>\n",
       "      <th>...</th>\n",
       "      <td>...</td>\n",
       "      <td>...</td>\n",
       "      <td>...</td>\n",
       "      <td>...</td>\n",
       "      <td>...</td>\n",
       "      <td>...</td>\n",
       "      <td>...</td>\n",
       "      <td>...</td>\n",
       "      <td>...</td>\n",
       "      <td>...</td>\n",
       "      <td>...</td>\n",
       "    </tr>\n",
       "    <tr>\n",
       "      <th>5105</th>\n",
       "      <td>1.0</td>\n",
       "      <td>0.975586</td>\n",
       "      <td>1</td>\n",
       "      <td>0</td>\n",
       "      <td>0.0</td>\n",
       "      <td>0.5</td>\n",
       "      <td>0.0</td>\n",
       "      <td>0.132167</td>\n",
       "      <td>0.38756</td>\n",
       "      <td>0.333333</td>\n",
       "      <td>0.0</td>\n",
       "    </tr>\n",
       "    <tr>\n",
       "      <th>5106</th>\n",
       "      <td>1.0</td>\n",
       "      <td>0.987793</td>\n",
       "      <td>0</td>\n",
       "      <td>0</td>\n",
       "      <td>0.0</td>\n",
       "      <td>0.25</td>\n",
       "      <td>0.0</td>\n",
       "      <td>0.323516</td>\n",
       "      <td>0.655502</td>\n",
       "      <td>0.333333</td>\n",
       "      <td>0.0</td>\n",
       "    </tr>\n",
       "    <tr>\n",
       "      <th>5107</th>\n",
       "      <td>1.0</td>\n",
       "      <td>0.42627</td>\n",
       "      <td>0</td>\n",
       "      <td>0</td>\n",
       "      <td>0.0</td>\n",
       "      <td>0.25</td>\n",
       "      <td>1.0</td>\n",
       "      <td>0.128658</td>\n",
       "      <td>0.430622</td>\n",
       "      <td>0.333333</td>\n",
       "      <td>0.0</td>\n",
       "    </tr>\n",
       "    <tr>\n",
       "      <th>5108</th>\n",
       "      <td>0.5</td>\n",
       "      <td>0.621582</td>\n",
       "      <td>0</td>\n",
       "      <td>0</td>\n",
       "      <td>0.0</td>\n",
       "      <td>0.5</td>\n",
       "      <td>1.0</td>\n",
       "      <td>0.513203</td>\n",
       "      <td>0.308612</td>\n",
       "      <td>0.666667</td>\n",
       "      <td>0.0</td>\n",
       "    </tr>\n",
       "    <tr>\n",
       "      <th>5109</th>\n",
       "      <td>1.0</td>\n",
       "      <td>0.536133</td>\n",
       "      <td>0</td>\n",
       "      <td>0</td>\n",
       "      <td>0.0</td>\n",
       "      <td>1.0</td>\n",
       "      <td>0.0</td>\n",
       "      <td>0.13923</td>\n",
       "      <td>0.322967</td>\n",
       "      <td>1.0</td>\n",
       "      <td>0.0</td>\n",
       "    </tr>\n",
       "  </tbody>\n",
       "</table>\n",
       "<p>5110 rows × 11 columns</p>\n",
       "</div>"
      ],
      "text/plain": [
       "      gender       age  hypertension  heart_disease  ever_married  work_type  \\\n",
       "0        0.5  0.816895             0              1           0.0        0.5   \n",
       "1        1.0  0.743652             0              0           0.0       0.25   \n",
       "2        0.5  0.975586             0              1           0.0        0.5   \n",
       "3        1.0  0.597168             0              0           0.0        0.5   \n",
       "4        1.0  0.963379             1              0           0.0       0.25   \n",
       "...      ...       ...           ...            ...           ...        ...   \n",
       "5105     1.0  0.975586             1              0           0.0        0.5   \n",
       "5106     1.0  0.987793             0              0           0.0       0.25   \n",
       "5107     1.0   0.42627             0              0           0.0       0.25   \n",
       "5108     0.5  0.621582             0              0           0.0        0.5   \n",
       "5109     1.0  0.536133             0              0           0.0        1.0   \n",
       "\n",
       "      Residence_type  avg_glucose_level       bmi  smoking_status  stroke  \n",
       "0                0.0           0.801265  0.574163        0.666667     1.0  \n",
       "1                1.0           0.679023   0.38756        0.333333     1.0  \n",
       "2                1.0           0.234512  0.476077        0.333333     1.0  \n",
       "3                0.0           0.536008  0.521531             0.0     1.0  \n",
       "4                1.0           0.549349  0.270335        0.333333     1.0  \n",
       "...              ...                ...       ...             ...     ...  \n",
       "5105             0.0           0.132167   0.38756        0.333333     0.0  \n",
       "5106             0.0           0.323516  0.655502        0.333333     0.0  \n",
       "5107             1.0           0.128658  0.430622        0.333333     0.0  \n",
       "5108             1.0           0.513203  0.308612        0.666667     0.0  \n",
       "5109             0.0            0.13923  0.322967             1.0     0.0  \n",
       "\n",
       "[5110 rows x 11 columns]"
      ]
     },
     "execution_count": 26,
     "metadata": {},
     "output_type": "execute_result"
    }
   ],
   "source": [
    "csv = csv.fillna(csv['bmi'].mean())\n",
    "csv = mapping(csv, \"bmi\")\n",
    "csv = normalizeCol(csv, \"bmi\", [0, 1])"
   ]
  },
  {
   "cell_type": "code",
   "execution_count": 19,
   "metadata": {
    "execution": {
     "iopub.execute_input": "2021-03-10T04:48:58.801848Z",
     "iopub.status.busy": "2021-03-10T04:48:58.801122Z",
     "iopub.status.idle": "2021-03-10T04:48:58.809269Z",
     "shell.execute_reply": "2021-03-10T04:48:58.809787Z"
    },
    "papermill": {
     "duration": 0.029304,
     "end_time": "2021-03-10T04:48:58.809963",
     "exception": false,
     "start_time": "2021-03-10T04:48:58.780659",
     "status": "completed"
    },
    "tags": []
   },
   "outputs": [],
   "source": [
    "csv = mapping(csv, \"smoking_status\")\n",
    "csv = normalizeCol(csv, \"smoking_status\", [0, 1])"
   ]
  },
  {
   "cell_type": "code",
   "execution_count": 20,
   "metadata": {
    "execution": {
     "iopub.execute_input": "2021-03-10T04:48:58.845499Z",
     "iopub.status.busy": "2021-03-10T04:48:58.844848Z",
     "iopub.status.idle": "2021-03-10T04:48:58.871563Z",
     "shell.execute_reply": "2021-03-10T04:48:58.870942Z"
    },
    "papermill": {
     "duration": 0.045635,
     "end_time": "2021-03-10T04:48:58.871704",
     "exception": false,
     "start_time": "2021-03-10T04:48:58.826069",
     "status": "completed"
    },
    "tags": []
   },
   "outputs": [],
   "source": [
    "csv = normalizeCol(csv, \"stroke\", [0, 1])"
   ]
  },
  {
   "cell_type": "code",
   "execution_count": 21,
   "metadata": {
    "execution": {
     "iopub.execute_input": "2021-03-10T04:48:58.911941Z",
     "iopub.status.busy": "2021-03-10T04:48:58.911325Z",
     "iopub.status.idle": "2021-03-10T04:48:58.931058Z",
     "shell.execute_reply": "2021-03-10T04:48:58.931904Z"
    },
    "papermill": {
     "duration": 0.043673,
     "end_time": "2021-03-10T04:48:58.932136",
     "exception": false,
     "start_time": "2021-03-10T04:48:58.888463",
     "status": "completed"
    },
    "tags": []
   },
   "outputs": [
    {
     "name": "stdout",
     "output_type": "stream",
     "text": [
      "(4088, 10) (1022, 10) (4088,) (1022,)\n"
     ]
    }
   ],
   "source": [
    "X, y = csv.values[:, :-1], csv.values[:, -1]\n",
    "X= X.astype('float32')\n",
    "y = LabelEncoder().fit_transform(y)\n",
    "X_train, X_test, y_train, y_test = train_test_split(X, y, test_size=0.20)\n",
    "print(X_train.shape, X_test.shape, y_train.shape, y_test.shape)\n",
    "n_features = X_train.shape[1] #feature selection"
   ]
  },
  {
   "cell_type": "code",
   "execution_count": 22,
   "metadata": {
    "execution": {
     "iopub.execute_input": "2021-03-10T04:48:58.974111Z",
     "iopub.status.busy": "2021-03-10T04:48:58.973495Z",
     "iopub.status.idle": "2021-03-10T04:48:59.085698Z",
     "shell.execute_reply": "2021-03-10T04:48:59.085103Z"
    },
    "papermill": {
     "duration": 0.136421,
     "end_time": "2021-03-10T04:48:59.085838",
     "exception": false,
     "start_time": "2021-03-10T04:48:58.949417",
     "status": "completed"
    },
    "tags": []
   },
   "outputs": [],
   "source": [
    "model = tf.keras.models.Sequential() #the model\n",
    "model.add(tf.keras.layers.Dense(n_features, activation='relu', kernel_initializer='he_normal', input_shape=(n_features,)))\n",
    "model.add(tf.keras.layers.Dense(6, activation='relu', kernel_initializer='he_normal'))\n",
    "model.add(tf.keras.layers.Dense(14, activation='relu', kernel_initializer='he_normal'))\n",
    "model.add(tf.keras.layers.Dense(24, activation='relu', kernel_initializer='he_normal'))\n",
    "model.add(tf.keras.layers.Dense(6, activation='relu', kernel_initializer='he_normal'))\n",
    "model.add(tf.keras.layers.Dense(2, activation='softmax'))\n",
    "# model.compile(optimizer='adam', loss='sparse_categorical_crossentropy', metrics=['loss'])"
   ]
  },
  {
   "cell_type": "code",
   "execution_count": 23,
   "metadata": {
    "execution": {
     "iopub.execute_input": "2021-03-10T04:48:59.133160Z",
     "iopub.status.busy": "2021-03-10T04:48:59.132507Z",
     "iopub.status.idle": "2021-03-10T04:49:08.958729Z",
     "shell.execute_reply": "2021-03-10T04:49:08.957976Z"
    },
    "papermill": {
     "duration": 9.855943,
     "end_time": "2021-03-10T04:49:08.958894",
     "exception": false,
     "start_time": "2021-03-10T04:48:59.102951",
     "status": "completed"
    },
    "tags": []
   },
   "outputs": [
    {
     "data": {
      "text/plain": [
       "<keras.callbacks.History at 0x18dc8ecd840>"
      ]
     },
     "execution_count": 23,
     "metadata": {},
     "output_type": "execute_result"
    }
   ],
   "source": [
    "# try:\n",
    "#     model = tf.keras.models.load_model('trained_model')\n",
    "# except:\n",
    "#     print(\"no model file, training from scratch\")\n",
    "model.compile(optimizer='adam', loss='sparse_categorical_crossentropy', metrics=['accuracy'])\n",
    "\n",
    "# log_dir = \"logs/fit/\" + datetime.datetime.now().strftime(\"%Y%m%d-%H%M%S\")\n",
    "# tensorboard_callback = tf.keras.callbacks.TensorBoard(log_dir=log_dir, histogram_freq=1)\n",
    "\n",
    "model.fit(X_train, y_train, epochs=64, batch_size=64, verbose=0, validation_data=(X_test, y_test))\n",
    "\n",
    "# model.save('trained_model')\n",
    "# pickle.dump(history, open(\"history.p\", \"wb\"))\n",
    "# model = tf.keras.models.load_model('trained_model')\n",
    "# history = pickle.load(open(\"history.p\", \"rb\"))"
   ]
  },
  {
   "cell_type": "code",
   "execution_count": 24,
   "metadata": {
    "execution": {
     "iopub.execute_input": "2021-03-10T04:49:09.005307Z",
     "iopub.status.busy": "2021-03-10T04:49:09.004167Z",
     "iopub.status.idle": "2021-03-10T04:49:09.074952Z",
     "shell.execute_reply": "2021-03-10T04:49:09.074353Z"
    },
    "papermill": {
     "duration": 0.096539,
     "end_time": "2021-03-10T04:49:09.075116",
     "exception": false,
     "start_time": "2021-03-10T04:49:08.978577",
     "status": "completed"
    },
    "tags": []
   },
   "outputs": [],
   "source": [
    "loss, acc = model.evaluate(X_test, y_test, verbose=0)"
   ]
  },
  {
   "cell_type": "code",
   "execution_count": 25,
   "metadata": {
    "execution": {
     "iopub.execute_input": "2021-03-10T04:49:09.120531Z",
     "iopub.status.busy": "2021-03-10T04:49:09.119376Z",
     "iopub.status.idle": "2021-03-10T04:49:09.122885Z",
     "shell.execute_reply": "2021-03-10T04:49:09.123457Z"
    },
    "papermill": {
     "duration": 0.02855,
     "end_time": "2021-03-10T04:49:09.123641",
     "exception": false,
     "start_time": "2021-03-10T04:49:09.095091",
     "status": "completed"
    },
    "tags": []
   },
   "outputs": [
    {
     "name": "stdout",
     "output_type": "stream",
     "text": [
      "Test Accuracy: 0.943\n"
     ]
    }
   ],
   "source": [
    "print('Test Accuracy: %.3f' % acc)"
   ]
  }
 ],
 "metadata": {
  "kernelspec": {
   "display_name": "Python 3.10.6 64-bit",
   "language": "python",
   "name": "python3"
  },
  "language_info": {
   "codemirror_mode": {
    "name": "ipython",
    "version": 3
   },
   "file_extension": ".py",
   "mimetype": "text/x-python",
   "name": "python",
   "nbconvert_exporter": "python",
   "pygments_lexer": "ipython3",
   "version": "3.10.6"
  },
  "papermill": {
   "default_parameters": {},
   "duration": 24.447555,
   "end_time": "2021-03-10T04:49:10.254059",
   "environment_variables": {},
   "exception": null,
   "input_path": "__notebook__.ipynb",
   "output_path": "__notebook__.ipynb",
   "parameters": {},
   "start_time": "2021-03-10T04:48:45.806504",
   "version": "2.2.2"
  },
  "vscode": {
   "interpreter": {
    "hash": "f9e4dc9f9849216cde722f1d05d16f9d6e39392894aab521b220488c9419cf33"
   }
  }
 },
 "nbformat": 4,
 "nbformat_minor": 4
}
