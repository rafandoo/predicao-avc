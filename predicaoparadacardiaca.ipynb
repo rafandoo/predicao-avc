{
 "cells": [
  {
   "cell_type": "markdown",
   "metadata": {},
   "source": [
    "# Predição de Parada Cardíaca com MLP"
   ]
  },
  {
   "cell_type": "markdown",
   "metadata": {},
   "source": [
    "## Importando bibliotecas"
   ]
  },
  {
   "cell_type": "code",
   "execution_count": 86,
   "metadata": {
    "execution": {
     "iopub.execute_input": "2021-03-10T04:48:51.543695Z",
     "iopub.status.busy": "2021-03-10T04:48:51.543018Z",
     "iopub.status.idle": "2021-03-10T04:48:58.118902Z",
     "shell.execute_reply": "2021-03-10T04:48:58.117972Z"
    },
    "papermill": {
     "duration": 6.597163,
     "end_time": "2021-03-10T04:48:58.119125",
     "exception": false,
     "start_time": "2021-03-10T04:48:51.521962",
     "status": "completed"
    },
    "tags": []
   },
   "outputs": [
    {
     "data": {
      "text/html": [
       "        <script type=\"text/javascript\">\n",
       "        window.PlotlyConfig = {MathJaxConfig: 'local'};\n",
       "        if (window.MathJax && window.MathJax.Hub && window.MathJax.Hub.Config) {window.MathJax.Hub.Config({SVG: {font: \"STIX-Web\"}});}\n",
       "        if (typeof require !== 'undefined') {\n",
       "        require.undef(\"plotly\");\n",
       "        requirejs.config({\n",
       "            paths: {\n",
       "                'plotly': ['https://cdn.plot.ly/plotly-2.12.1.min']\n",
       "            }\n",
       "        });\n",
       "        require(['plotly'], function(Plotly) {\n",
       "            window._Plotly = Plotly;\n",
       "        });\n",
       "        }\n",
       "        </script>\n",
       "        "
      ]
     },
     "metadata": {},
     "output_type": "display_data"
    }
   ],
   "source": [
    "import numpy as np\n",
    "import pandas as pd\n",
    "import seaborn as sns\n",
    "\n",
    "from plotly.offline import init_notebook_mode, iplot\n",
    "init_notebook_mode(connected=True)"
   ]
  },
  {
   "cell_type": "markdown",
   "metadata": {},
   "source": [
    "## Visão geral dos dados"
   ]
  },
  {
   "cell_type": "code",
   "execution_count": 87,
   "metadata": {
    "execution": {
     "iopub.execute_input": "2021-03-10T04:48:58.151462Z",
     "iopub.status.busy": "2021-03-10T04:48:58.150773Z",
     "iopub.status.idle": "2021-03-10T04:48:58.212188Z",
     "shell.execute_reply": "2021-03-10T04:48:58.211672Z"
    },
    "papermill": {
     "duration": 0.079266,
     "end_time": "2021-03-10T04:48:58.212331",
     "exception": false,
     "start_time": "2021-03-10T04:48:58.133065",
     "status": "completed"
    },
    "tags": []
   },
   "outputs": [
    {
     "data": {
      "text/plain": [
       "\"\\n[Attribute Information]\\n\\nAge           : idade do paciente [anos]\\nSex           : sexo do paciente [M: Masculino, F: Feminino]\\nChestPainType : tipo da dor no peito [TA: Angina Típica, ATA: Angina Atípica, NAP: Dor não-anginal, ASY: Assintomática]\\nRestingBP     : pressão arterial em repouso [mm Hg]\\nCholesterol   : colesterol [mm/dl]\\nFastingBS     : açúcar no sangue em jejum [1: se > 120 mg/dl, 0: se < 120 mg/dl]\\nRestingECG    : resultados de eletrocardiograma em repouso [Normal: Normal, \\n                                                  ST: possui ST-T anormal (T wave inversions and/or ST elevation or depression of > 0.05 mV), \\n                                                  LVH: propabilidade de hipertrofia ventricular esquerda pelo critério Estes']\\nMaxHR         : frequência cardíaca máxima alcançada [valor numérico entre 60 e 202]\\nExerciseAngina: angina induzida por exercício [Y: Sim, N: Não]\\nOldpeak       : picos = ST [valor numérico entre 0 e 6.2]\\nST_Slope      : inclinação do segmento ST de pico do exercício [Up : inclinado pra cima, \\n                                                          Flat: plano, \\n                                                          Down: inclinado para baixo]\\nHeartDisease  : output class [1: problema no coração,\\n                              0: Normal]\\n\\n\""
      ]
     },
     "execution_count": 87,
     "metadata": {},
     "output_type": "execute_result"
    }
   ],
   "source": [
    "dataset = pd.read_csv('data/heart.csv')\n",
    "\"\"\"\n",
    "[Attribute Information]\n",
    "\n",
    "Age           : idade do paciente [anos]\n",
    "Sex           : sexo do paciente [M: Masculino, F: Feminino]\n",
    "ChestPainType : tipo da dor no peito [TA: Angina Típica, ATA: Angina Atípica, NAP: Dor não-anginal, ASY: Assintomática]\n",
    "RestingBP     : pressão arterial em repouso [mm Hg]\n",
    "Cholesterol   : colesterol [mm/dl]\n",
    "FastingBS     : açúcar no sangue em jejum [1: se > 120 mg/dl, 0: se < 120 mg/dl]\n",
    "RestingECG    : resultados de eletrocardiograma em repouso [Normal: Normal, \n",
    "                                                  ST: possui ST-T anormal (T wave inversions and/or ST elevation or depression of > 0.05 mV), \n",
    "                                                  LVH: propabilidade de hipertrofia ventricular esquerda pelo critério Estes']\n",
    "MaxHR         : frequência cardíaca máxima alcançada [valor numérico entre 60 e 202]\n",
    "ExerciseAngina: angina induzida por exercício [Y: Sim, N: Não]\n",
    "Oldpeak       : picos = ST [valor numérico entre 0 e 6.2]\n",
    "ST_Slope      : inclinação do segmento ST de pico do exercício [Up : inclinado pra cima, \n",
    "                                                          Flat: plano, \n",
    "                                                          Down: inclinado para baixo]\n",
    "HeartDisease  : output class [1: problema no coração,\n",
    "                              0: Normal]\n",
    "\n",
    "\"\"\""
   ]
  },
  {
   "cell_type": "code",
   "execution_count": 88,
   "metadata": {},
   "outputs": [
    {
     "data": {
      "text/html": [
       "<div>\n",
       "<style scoped>\n",
       "    .dataframe tbody tr th:only-of-type {\n",
       "        vertical-align: middle;\n",
       "    }\n",
       "\n",
       "    .dataframe tbody tr th {\n",
       "        vertical-align: top;\n",
       "    }\n",
       "\n",
       "    .dataframe thead th {\n",
       "        text-align: right;\n",
       "    }\n",
       "</style>\n",
       "<table border=\"1\" class=\"dataframe\">\n",
       "  <thead>\n",
       "    <tr style=\"text-align: right;\">\n",
       "      <th></th>\n",
       "      <th>Age</th>\n",
       "      <th>Sex</th>\n",
       "      <th>ChestPainType</th>\n",
       "      <th>RestingBP</th>\n",
       "      <th>Cholesterol</th>\n",
       "      <th>FastingBS</th>\n",
       "      <th>RestingECG</th>\n",
       "      <th>MaxHR</th>\n",
       "      <th>ExerciseAngina</th>\n",
       "      <th>Oldpeak</th>\n",
       "      <th>ST_Slope</th>\n",
       "      <th>HeartDisease</th>\n",
       "    </tr>\n",
       "  </thead>\n",
       "  <tbody>\n",
       "    <tr>\n",
       "      <th>0</th>\n",
       "      <td>40</td>\n",
       "      <td>M</td>\n",
       "      <td>ATA</td>\n",
       "      <td>140</td>\n",
       "      <td>289</td>\n",
       "      <td>0</td>\n",
       "      <td>Normal</td>\n",
       "      <td>172</td>\n",
       "      <td>N</td>\n",
       "      <td>0.0</td>\n",
       "      <td>Up</td>\n",
       "      <td>0</td>\n",
       "    </tr>\n",
       "    <tr>\n",
       "      <th>1</th>\n",
       "      <td>49</td>\n",
       "      <td>F</td>\n",
       "      <td>NAP</td>\n",
       "      <td>160</td>\n",
       "      <td>180</td>\n",
       "      <td>0</td>\n",
       "      <td>Normal</td>\n",
       "      <td>156</td>\n",
       "      <td>N</td>\n",
       "      <td>1.0</td>\n",
       "      <td>Flat</td>\n",
       "      <td>1</td>\n",
       "    </tr>\n",
       "    <tr>\n",
       "      <th>2</th>\n",
       "      <td>37</td>\n",
       "      <td>M</td>\n",
       "      <td>ATA</td>\n",
       "      <td>130</td>\n",
       "      <td>283</td>\n",
       "      <td>0</td>\n",
       "      <td>ST</td>\n",
       "      <td>98</td>\n",
       "      <td>N</td>\n",
       "      <td>0.0</td>\n",
       "      <td>Up</td>\n",
       "      <td>0</td>\n",
       "    </tr>\n",
       "    <tr>\n",
       "      <th>3</th>\n",
       "      <td>48</td>\n",
       "      <td>F</td>\n",
       "      <td>ASY</td>\n",
       "      <td>138</td>\n",
       "      <td>214</td>\n",
       "      <td>0</td>\n",
       "      <td>Normal</td>\n",
       "      <td>108</td>\n",
       "      <td>Y</td>\n",
       "      <td>1.5</td>\n",
       "      <td>Flat</td>\n",
       "      <td>1</td>\n",
       "    </tr>\n",
       "    <tr>\n",
       "      <th>4</th>\n",
       "      <td>54</td>\n",
       "      <td>M</td>\n",
       "      <td>NAP</td>\n",
       "      <td>150</td>\n",
       "      <td>195</td>\n",
       "      <td>0</td>\n",
       "      <td>Normal</td>\n",
       "      <td>122</td>\n",
       "      <td>N</td>\n",
       "      <td>0.0</td>\n",
       "      <td>Up</td>\n",
       "      <td>0</td>\n",
       "    </tr>\n",
       "  </tbody>\n",
       "</table>\n",
       "</div>"
      ],
      "text/plain": [
       "   Age Sex ChestPainType  RestingBP  Cholesterol  FastingBS RestingECG  MaxHR  \\\n",
       "0   40   M           ATA        140          289          0     Normal    172   \n",
       "1   49   F           NAP        160          180          0     Normal    156   \n",
       "2   37   M           ATA        130          283          0         ST     98   \n",
       "3   48   F           ASY        138          214          0     Normal    108   \n",
       "4   54   M           NAP        150          195          0     Normal    122   \n",
       "\n",
       "  ExerciseAngina  Oldpeak ST_Slope  HeartDisease  \n",
       "0              N      0.0       Up             0  \n",
       "1              N      1.0     Flat             1  \n",
       "2              N      0.0       Up             0  \n",
       "3              Y      1.5     Flat             1  \n",
       "4              N      0.0       Up             0  "
      ]
     },
     "execution_count": 88,
     "metadata": {},
     "output_type": "execute_result"
    }
   ],
   "source": [
    "dataset.head(5)"
   ]
  },
  {
   "cell_type": "markdown",
   "metadata": {},
   "source": [
    "## Análise exploratória dos dados"
   ]
  },
  {
   "cell_type": "markdown",
   "metadata": {},
   "source": [
    "### Colunas numéricas"
   ]
  },
  {
   "cell_type": "code",
   "execution_count": 89,
   "metadata": {},
   "outputs": [
    {
     "name": "stderr",
     "output_type": "stream",
     "text": [
      "C:\\Users\\rafin\\AppData\\Local\\Temp\\ipykernel_11376\\2391195420.py:5: UserWarning:\n",
      "\n",
      "To output multiple subplots, the figure containing the passed axes is being cleared.\n",
      "\n"
     ]
    },
    {
     "data": {
      "text/plain": [
       "array([[<AxesSubplot:title={'center':'Age'}>,\n",
       "        <AxesSubplot:title={'center':'RestingBP'}>,\n",
       "        <AxesSubplot:title={'center':'Cholesterol'}>],\n",
       "       [<AxesSubplot:title={'center':'FastingBS'}>,\n",
       "        <AxesSubplot:title={'center':'MaxHR'}>,\n",
       "        <AxesSubplot:title={'center':'Oldpeak'}>],\n",
       "       [<AxesSubplot:title={'center':'HeartDisease'}>, <AxesSubplot:>,\n",
       "        <AxesSubplot:>]], dtype=object)"
      ]
     },
     "execution_count": 89,
     "metadata": {},
     "output_type": "execute_result"
    },
    {
     "data": {
      "image/png": "[encoded data removed]",
      "text/plain": [
       "<Figure size 720x720 with 9 Axes>"
      ]
     },
     "metadata": {
      "needs_background": "light"
     },
     "output_type": "display_data"
    }
   ],
   "source": [
    "import matplotlib.pyplot as plt\n",
    "\n",
    "fig = plt.figure(figsize=(10, 10))\n",
    "ax = fig.gca()\n",
    "dataset.hist(ax=ax)"
   ]
  },
  {
   "cell_type": "markdown",
   "metadata": {},
   "source": [
    "### Colunas categóricas"
   ]
  },
  {
   "cell_type": "code",
   "execution_count": 78,
   "metadata": {},
   "outputs": [
    {
     "data": {
      "image/png": "[encoded data removed]",
      "text/plain": [
       "<Figure size 432x288 with 1 Axes>"
      ]
     },
     "metadata": {
      "needs_background": "light"
     },
     "output_type": "display_data"
    },
    {
     "data": {
      "image/png": "[encoded data removed]",
      "text/plain": [
       "<Figure size 432x288 with 1 Axes>"
      ]
     },
     "metadata": {
      "needs_background": "light"
     },
     "output_type": "display_data"
    },
    {
     "data": {
      "image/png": "[encoded data removed]",
      "text/plain": [
       "<Figure size 432x288 with 1 Axes>"
      ]
     },
     "metadata": {
      "needs_background": "light"
     },
     "output_type": "display_data"
    },
    {
     "data": {
      "image/png": "[encoded data removed]",
      "text/plain": [
       "<Figure size 432x288 with 1 Axes>"
      ]
     },
     "metadata": {
      "needs_background": "light"
     },
     "output_type": "display_data"
    },
    {
     "data": {
      "image/png": "[encoded data removed]",
      "text/plain": [
       "<Figure size 432x288 with 1 Axes>"
      ]
     },
     "metadata": {
      "needs_background": "light"
     },
     "output_type": "display_data"
    }
   ],
   "source": [
    "categorical_feat = dataset[['Sex', 'ChestPainType', 'RestingECG', 'ExerciseAngina', 'ST_Slope']] \n",
    "\n",
    "for i in categorical_feat.columns:\n",
    "    plt.hist(categorical_feat[i])\n",
    "    plt.title(i)\n",
    "    plt.show()"
   ]
  },
  {
   "cell_type": "code",
   "execution_count": 8,
   "metadata": {},
   "outputs": [
    {
     "ename": "NameError",
     "evalue": "name 'pd' is not defined",
     "output_type": "error",
     "traceback": [
      "\u001b[1;31m---------------------------------------------------------------------------\u001b[0m",
      "\u001b[1;31mNameError\u001b[0m                                 Traceback (most recent call last)",
      "\u001b[1;32mc:\\dev\\IFC - BCC\\Projetos\\predicao-avc\\predicaoparadacardiaca.ipynb Célula: 12\u001b[0m in \u001b[0;36m<cell line: 5>\u001b[1;34m()\u001b[0m\n\u001b[0;32m      <a href='vscode-notebook-cell:/c%3A/dev/IFC%20-%20BCC/Projetos/predicao-avc/predicaoparadacardiaca.ipynb#X34sZmlsZQ%3D%3D?line=0'>1</a>\u001b[0m \u001b[39m# Verificando a correlação entre os generos\u001b[39;00m\n\u001b[0;32m      <a href='vscode-notebook-cell:/c%3A/dev/IFC%20-%20BCC/Projetos/predicao-avc/predicaoparadacardiaca.ipynb#X34sZmlsZQ%3D%3D?line=2'>3</a>\u001b[0m \u001b[39mimport\u001b[39;00m \u001b[39mplotly\u001b[39;00m\u001b[39m.\u001b[39;00m\u001b[39mexpress\u001b[39;00m \u001b[39mas\u001b[39;00m \u001b[39mpx\u001b[39;00m\n\u001b[1;32m----> <a href='vscode-notebook-cell:/c%3A/dev/IFC%20-%20BCC/Projetos/predicao-avc/predicaoparadacardiaca.ipynb#X34sZmlsZQ%3D%3D?line=4'>5</a>\u001b[0m dataset \u001b[39m=\u001b[39m pd\u001b[39m.\u001b[39mread_csv(\u001b[39m'\u001b[39m\u001b[39mdata/heart.csv\u001b[39m\u001b[39m'\u001b[39m)\n\u001b[0;32m      <a href='vscode-notebook-cell:/c%3A/dev/IFC%20-%20BCC/Projetos/predicao-avc/predicaoparadacardiaca.ipynb#X34sZmlsZQ%3D%3D?line=6'>7</a>\u001b[0m fig \u001b[39m=\u001b[39m px\u001b[39m.\u001b[39mhistogram(dataset,\n\u001b[0;32m      <a href='vscode-notebook-cell:/c%3A/dev/IFC%20-%20BCC/Projetos/predicao-avc/predicaoparadacardiaca.ipynb#X34sZmlsZQ%3D%3D?line=7'>8</a>\u001b[0m                    x          \u001b[39m=\u001b[39m \u001b[39m\"\u001b[39m\u001b[39mHeartDisease\u001b[39m\u001b[39m\"\u001b[39m,\n\u001b[0;32m      <a href='vscode-notebook-cell:/c%3A/dev/IFC%20-%20BCC/Projetos/predicao-avc/predicaoparadacardiaca.ipynb#X34sZmlsZQ%3D%3D?line=8'>9</a>\u001b[0m                    color      \u001b[39m=\u001b[39m \u001b[39m\"\u001b[39m\u001b[39mSex\u001b[39m\u001b[39m\"\u001b[39m,\n\u001b[1;32m   (...)\u001b[0m\n\u001b[0;32m     <a href='vscode-notebook-cell:/c%3A/dev/IFC%20-%20BCC/Projetos/predicao-avc/predicaoparadacardiaca.ipynb#X34sZmlsZQ%3D%3D?line=12'>13</a>\u001b[0m                    width      \u001b[39m=\u001b[39m \u001b[39m600\u001b[39m,\n\u001b[0;32m     <a href='vscode-notebook-cell:/c%3A/dev/IFC%20-%20BCC/Projetos/predicao-avc/predicaoparadacardiaca.ipynb#X34sZmlsZQ%3D%3D?line=13'>14</a>\u001b[0m                    height     \u001b[39m=\u001b[39m \u001b[39m400\u001b[39m)\n\u001b[0;32m     <a href='vscode-notebook-cell:/c%3A/dev/IFC%20-%20BCC/Projetos/predicao-avc/predicaoparadacardiaca.ipynb#X34sZmlsZQ%3D%3D?line=14'>15</a>\u001b[0m fig\u001b[39m.\u001b[39mshow()\n",
      "\u001b[1;31mNameError\u001b[0m: name 'pd' is not defined"
     ]
    }
   ],
   "source": [
    "# Verificando a correlação entre os generos\n",
    "\n",
    "import plotly.express as px\n",
    "\n",
    "fig = px.histogram(dataset,\n",
    "                   x          = \"HeartDisease\",\n",
    "                   color      = \"Sex\",\n",
    "                   hover_data = dataset.columns,\n",
    "                   title      = \"Gender relationship with Heart Disease\",\n",
    "                   barmode    = \"group\",\n",
    "                   width      = 600,\n",
    "                   height     = 400)\n",
    "fig.show()\n",
    "\n",
    "print(\"\\n\")\n",
    "print(\"Quantidade de pessoas do gênero feminino: \", dataset[dataset[\"Sex\"]==\"F\"][\"HeartDisease\"].count())\n",
    "print(\"Quantidade de pessoas do gênero masculino: \", dataset[dataset[\"Sex\"]==\"M\"][\"HeartDisease\"].count())\n",
    "print(\"\\n\")\n",
    "\n",
    "pd.pivot_table(dataset,\n",
    "               index   = 'HeartDisease', \n",
    "               columns = 'Sex', \n",
    "               values  = 'ChestPainType',\n",
    "               aggfunc ='count')"
   ]
  },
  {
   "cell_type": "markdown",
   "metadata": {},
   "source": [
    "## Pré-processamento"
   ]
  },
  {
   "cell_type": "code",
   "execution_count": 79,
   "metadata": {},
   "outputs": [],
   "source": [
    "# Removendo linhas onde Cholesterol e RestingBP são iguais a 0\n",
    "\n",
    "dataset.drop(dataset[dataset['Cholesterol'] == 0].index, inplace=True)\n",
    "dataset.drop(dataset[dataset['RestingBP'] == 0].index, inplace=True)"
   ]
  },
  {
   "cell_type": "code",
   "execution_count": 80,
   "metadata": {},
   "outputs": [],
   "source": [
    "from sklearn.preprocessing import LabelEncoder\n",
    "\n",
    "dataset = dataset.apply(LabelEncoder().fit_transform) # converte todas as colunas para inteiros"
   ]
  },
  {
   "cell_type": "code",
   "execution_count": 81,
   "metadata": {},
   "outputs": [
    {
     "data": {
      "text/html": [
       "<div>\n",
       "<style scoped>\n",
       "    .dataframe tbody tr th:only-of-type {\n",
       "        vertical-align: middle;\n",
       "    }\n",
       "\n",
       "    .dataframe tbody tr th {\n",
       "        vertical-align: top;\n",
       "    }\n",
       "\n",
       "    .dataframe thead th {\n",
       "        text-align: right;\n",
       "    }\n",
       "</style>\n",
       "<table border=\"1\" class=\"dataframe\">\n",
       "  <thead>\n",
       "    <tr style=\"text-align: right;\">\n",
       "      <th></th>\n",
       "      <th>Age</th>\n",
       "      <th>Sex</th>\n",
       "      <th>ChestPainType</th>\n",
       "      <th>RestingBP</th>\n",
       "      <th>Cholesterol</th>\n",
       "      <th>FastingBS</th>\n",
       "      <th>RestingECG</th>\n",
       "      <th>MaxHR</th>\n",
       "      <th>ExerciseAngina</th>\n",
       "      <th>Oldpeak</th>\n",
       "      <th>ST_Slope</th>\n",
       "      <th>HeartDisease</th>\n",
       "    </tr>\n",
       "  </thead>\n",
       "  <tbody>\n",
       "    <tr>\n",
       "      <th>0</th>\n",
       "      <td>12</td>\n",
       "      <td>1</td>\n",
       "      <td>1</td>\n",
       "      <td>38</td>\n",
       "      <td>146</td>\n",
       "      <td>0</td>\n",
       "      <td>1</td>\n",
       "      <td>88</td>\n",
       "      <td>0</td>\n",
       "      <td>1</td>\n",
       "      <td>2</td>\n",
       "      <td>0</td>\n",
       "    </tr>\n",
       "    <tr>\n",
       "      <th>1</th>\n",
       "      <td>21</td>\n",
       "      <td>0</td>\n",
       "      <td>2</td>\n",
       "      <td>52</td>\n",
       "      <td>39</td>\n",
       "      <td>0</td>\n",
       "      <td>1</td>\n",
       "      <td>72</td>\n",
       "      <td>0</td>\n",
       "      <td>11</td>\n",
       "      <td>1</td>\n",
       "      <td>1</td>\n",
       "    </tr>\n",
       "    <tr>\n",
       "      <th>2</th>\n",
       "      <td>9</td>\n",
       "      <td>1</td>\n",
       "      <td>1</td>\n",
       "      <td>28</td>\n",
       "      <td>140</td>\n",
       "      <td>0</td>\n",
       "      <td>2</td>\n",
       "      <td>17</td>\n",
       "      <td>0</td>\n",
       "      <td>1</td>\n",
       "      <td>2</td>\n",
       "      <td>0</td>\n",
       "    </tr>\n",
       "    <tr>\n",
       "      <th>3</th>\n",
       "      <td>20</td>\n",
       "      <td>0</td>\n",
       "      <td>0</td>\n",
       "      <td>36</td>\n",
       "      <td>71</td>\n",
       "      <td>0</td>\n",
       "      <td>1</td>\n",
       "      <td>24</td>\n",
       "      <td>1</td>\n",
       "      <td>16</td>\n",
       "      <td>1</td>\n",
       "      <td>1</td>\n",
       "    </tr>\n",
       "    <tr>\n",
       "      <th>4</th>\n",
       "      <td>26</td>\n",
       "      <td>1</td>\n",
       "      <td>2</td>\n",
       "      <td>46</td>\n",
       "      <td>52</td>\n",
       "      <td>0</td>\n",
       "      <td>1</td>\n",
       "      <td>38</td>\n",
       "      <td>0</td>\n",
       "      <td>1</td>\n",
       "      <td>2</td>\n",
       "      <td>0</td>\n",
       "    </tr>\n",
       "  </tbody>\n",
       "</table>\n",
       "</div>"
      ],
      "text/plain": [
       "   Age  Sex  ChestPainType  RestingBP  Cholesterol  FastingBS  RestingECG  \\\n",
       "0   12    1              1         38          146          0           1   \n",
       "1   21    0              2         52           39          0           1   \n",
       "2    9    1              1         28          140          0           2   \n",
       "3   20    0              0         36           71          0           1   \n",
       "4   26    1              2         46           52          0           1   \n",
       "\n",
       "   MaxHR  ExerciseAngina  Oldpeak  ST_Slope  HeartDisease  \n",
       "0     88               0        1         2             0  \n",
       "1     72               0       11         1             1  \n",
       "2     17               0        1         2             0  \n",
       "3     24               1       16         1             1  \n",
       "4     38               0        1         2             0  "
      ]
     },
     "execution_count": 81,
     "metadata": {},
     "output_type": "execute_result"
    }
   ],
   "source": [
    "dataset.head()"
   ]
  },
  {
   "cell_type": "markdown",
   "metadata": {},
   "source": [
    "## Divisão dos dados"
   ]
  },
  {
   "cell_type": "code",
   "execution_count": 82,
   "metadata": {
    "execution": {
     "iopub.execute_input": "2021-03-10T04:48:58.911941Z",
     "iopub.status.busy": "2021-03-10T04:48:58.911325Z",
     "iopub.status.idle": "2021-03-10T04:48:58.931058Z",
     "shell.execute_reply": "2021-03-10T04:48:58.931904Z"
    },
    "papermill": {
     "duration": 0.043673,
     "end_time": "2021-03-10T04:48:58.932136",
     "exception": false,
     "start_time": "2021-03-10T04:48:58.888463",
     "status": "completed"
    },
    "tags": []
   },
   "outputs": [],
   "source": [
    "from sklearn.model_selection import train_test_split\n",
    "\n",
    "X = dataset.iloc[:, :-1].values # todas as linhas, menos a última coluna\n",
    "y = dataset.iloc[:,-1].values # todas as linhas, apenas a última coluna\n",
    "\n",
    "X_train, X_test, y_train, y_test = train_test_split(X,\n",
    "                                                    y, \n",
    "                                                    test_size=0.2, \n",
    "                                                    random_state = None\n",
    "                                                    )"
   ]
  },
  {
   "cell_type": "code",
   "execution_count": 65,
   "metadata": {},
   "outputs": [],
   "source": [
    "# Normalizando os dados\n",
    "\n",
    "from sklearn.preprocessing import StandardScaler\n",
    "\n",
    "scaler = StandardScaler()\n",
    "X_train_scaled = scaler.fit_transform(X_train) # fit_transform: calcula a média e o desvio padrão e aplica a transformação\n",
    "X_test_scaled = scaler.transform(X_test) # transform: usa a média e o desvio padrão calculados anteriormente"
   ]
  },
  {
   "cell_type": "markdown",
   "metadata": {},
   "source": [
    "## Modelagem da rede neural"
   ]
  },
  {
   "cell_type": "code",
   "execution_count": 66,
   "metadata": {
    "execution": {
     "iopub.execute_input": "2021-03-10T04:48:58.974111Z",
     "iopub.status.busy": "2021-03-10T04:48:58.973495Z",
     "iopub.status.idle": "2021-03-10T04:48:59.085698Z",
     "shell.execute_reply": "2021-03-10T04:48:59.085103Z"
    },
    "papermill": {
     "duration": 0.136421,
     "end_time": "2021-03-10T04:48:59.085838",
     "exception": false,
     "start_time": "2021-03-10T04:48:58.949417",
     "status": "completed"
    },
    "tags": []
   },
   "outputs": [
    {
     "name": "stdout",
     "output_type": "stream",
     "text": [
      "Iteration 1, loss = 0.49331971\n",
      "Iteration 2, loss = 0.38299160\n",
      "Iteration 3, loss = 0.36222777\n",
      "Iteration 4, loss = 0.34550298\n",
      "Iteration 5, loss = 0.33432154\n",
      "Iteration 6, loss = 0.32124237\n",
      "Iteration 7, loss = 0.31128281\n",
      "Iteration 8, loss = 0.30202777\n",
      "Iteration 9, loss = 0.29688759\n",
      "Iteration 10, loss = 0.28733669\n",
      "Iteration 11, loss = 0.28414724\n",
      "Iteration 12, loss = 0.27868225\n",
      "Iteration 13, loss = 0.27521033\n",
      "Iteration 14, loss = 0.27141342\n",
      "Iteration 15, loss = 0.26876981\n",
      "Iteration 16, loss = 0.26252763\n",
      "Iteration 17, loss = 0.26163090\n",
      "Iteration 18, loss = 0.25829212\n",
      "Iteration 19, loss = 0.25543094\n",
      "Iteration 20, loss = 0.25320399\n",
      "Iteration 21, loss = 0.24949062\n",
      "Iteration 22, loss = 0.24857187\n",
      "Iteration 23, loss = 0.24855409\n",
      "Iteration 24, loss = 0.24789698\n",
      "Iteration 25, loss = 0.24283267\n",
      "Iteration 26, loss = 0.23875909\n",
      "Iteration 27, loss = 0.23559481\n",
      "Iteration 28, loss = 0.23523933\n",
      "Iteration 29, loss = 0.23215512\n",
      "Iteration 30, loss = 0.23228921\n",
      "Iteration 31, loss = 0.23047961\n",
      "Iteration 32, loss = 0.23089588\n",
      "Iteration 33, loss = 0.22751786\n",
      "Iteration 34, loss = 0.22587689\n",
      "Iteration 35, loss = 0.22965484\n",
      "Iteration 36, loss = 0.22512579\n",
      "Iteration 37, loss = 0.22675977\n",
      "Iteration 38, loss = 0.22401809\n",
      "Iteration 39, loss = 0.22104267\n",
      "Iteration 40, loss = 0.21962408\n",
      "Iteration 41, loss = 0.21865198\n",
      "Iteration 42, loss = 0.21998573\n",
      "Iteration 43, loss = 0.22071424\n",
      "Iteration 44, loss = 0.21915784\n",
      "Iteration 45, loss = 0.21637741\n",
      "Iteration 46, loss = 0.21595324\n",
      "Iteration 47, loss = 0.21394263\n",
      "Iteration 48, loss = 0.21452176\n",
      "Iteration 49, loss = 0.21749483\n",
      "Iteration 50, loss = 0.21340391\n",
      "Iteration 51, loss = 0.21353505\n",
      "Iteration 52, loss = 0.20873934\n",
      "Iteration 53, loss = 0.20987695\n",
      "Iteration 54, loss = 0.21088488\n",
      "Iteration 55, loss = 0.20818109\n",
      "Iteration 56, loss = 0.20812169\n",
      "Iteration 57, loss = 0.21077778\n",
      "Iteration 58, loss = 0.20676855\n",
      "Iteration 59, loss = 0.21038388\n",
      "Iteration 60, loss = 0.20697060\n",
      "Iteration 61, loss = 0.20548811\n",
      "Iteration 62, loss = 0.20482008\n",
      "Iteration 63, loss = 0.20194601\n",
      "Iteration 64, loss = 0.20507976\n",
      "Iteration 65, loss = 0.20455518\n",
      "Iteration 66, loss = 0.20579835\n",
      "Iteration 67, loss = 0.20165540\n",
      "Iteration 68, loss = 0.20467021\n",
      "Iteration 69, loss = 0.20407412\n",
      "Iteration 70, loss = 0.20639951\n",
      "Iteration 71, loss = 0.20229987\n",
      "Iteration 72, loss = 0.20215499\n",
      "Iteration 73, loss = 0.20309942\n",
      "Iteration 74, loss = 0.20087620\n",
      "Training loss did not improve more than tol=0.001000 for 10 consecutive epochs. Stopping.\n"
     ]
    }
   ],
   "source": [
    "from sklearn.neural_network import MLPClassifier\n",
    "mlp_clf = MLPClassifier(\n",
    "                    hidden_layer_sizes  = (1000),\n",
    "                    alpha               = 0.05,      # Termo de regularização L2\n",
    "                    max_iter            = 500,       # Número máximo de iterações. O treinamento para quando atinge esse número de iterações\t\n",
    "                    tol                 = 1e-3,      # Tolerância para o critério de parada\n",
    "                    batch_size          = 24,        # Tamanho do lote para otimização estocástica\n",
    "                    validation_fraction = 0.3,\n",
    "                    verbose             = True).fit(X_train_scaled, y_train)"
   ]
  },
  {
   "cell_type": "markdown",
   "metadata": {},
   "source": [
    "## Curva de perda"
   ]
  },
  {
   "cell_type": "code",
   "execution_count": 69,
   "metadata": {},
   "outputs": [
    {
     "data": {
      "image/png": "[encoded data removed]",
      "text/plain": [
       "<Figure size 1440x504 with 1 Axes>"
      ]
     },
     "metadata": {
      "needs_background": "light"
     },
     "output_type": "display_data"
    }
   ],
   "source": [
    "plt.figure(figsize=(20,7))\n",
    "plt.plot(mlp_clf.loss_curve_)\n",
    "plt.ylabel(\"Loss\")\n",
    "plt.xlabel(\"Iteration\")\n",
    "plt.show()"
   ]
  },
  {
   "cell_type": "markdown",
   "metadata": {},
   "source": [
    "## Testando o modelo"
   ]
  },
  {
   "cell_type": "code",
   "execution_count": 70,
   "metadata": {
    "execution": {
     "iopub.execute_input": "2021-03-10T04:49:09.005307Z",
     "iopub.status.busy": "2021-03-10T04:49:09.004167Z",
     "iopub.status.idle": "2021-03-10T04:49:09.074952Z",
     "shell.execute_reply": "2021-03-10T04:49:09.074353Z"
    },
    "papermill": {
     "duration": 0.096539,
     "end_time": "2021-03-10T04:49:09.075116",
     "exception": false,
     "start_time": "2021-03-10T04:49:08.978577",
     "status": "completed"
    },
    "tags": []
   },
   "outputs": [
    {
     "name": "stdout",
     "output_type": "stream",
     "text": [
      "Acurácia :  78.0 %\n",
      "Precisão :  81.94444444444444 %\n"
     ]
    }
   ],
   "source": [
    "from sklearn.metrics import accuracy_score, precision_score, recall_score\n",
    "\n",
    "# Testando o modelo\n",
    "y_pred_test_mlp   = mlp_clf.predict(X_test_scaled)\n",
    "\n",
    "# Avaliando o modelo\n",
    "print(\"Acurácia : \",accuracy_score(y_test, y_pred_test_mlp)*100,\"%\")\n",
    "print(\"Precisão : \",precision_score(y_test, y_pred_test_mlp)*100,\"%\")"
   ]
  }
 ],
 "metadata": {
  "kernelspec": {
   "display_name": "Python 3.10.6 64-bit",
   "language": "python",
   "name": "python3"
  },
  "language_info": {
   "codemirror_mode": {
    "name": "ipython",
    "version": 3
   },
   "file_extension": ".py",
   "mimetype": "text/x-python",
   "name": "python",
   "nbconvert_exporter": "python",
   "pygments_lexer": "ipython3",
   "version": "3.10.6"
  },
  "papermill": {
   "default_parameters": {},
   "duration": 24.447555,
   "end_time": "2021-03-10T04:49:10.254059",
   "environment_variables": {},
   "exception": null,
   "input_path": "__notebook__.ipynb",
   "output_path": "__notebook__.ipynb",
   "parameters": {},
   "start_time": "2021-03-10T04:48:45.806504",
   "version": "2.2.2"
  },
  "vscode": {
   "interpreter": {
    "hash": "f9e4dc9f9849216cde722f1d05d16f9d6e39392894aab521b220488c9419cf33"
   }
  }
 },
 "nbformat": 4,
 "nbformat_minor": 4
}
